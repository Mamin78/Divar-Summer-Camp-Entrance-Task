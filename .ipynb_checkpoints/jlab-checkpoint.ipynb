{
 "cells": [
  {
   "cell_type": "code",
   "execution_count": 1,
   "metadata": {},
   "outputs": [],
   "source": [
    "import pandas as pd"
   ]
  },
  {
   "cell_type": "code",
   "execution_count": 2,
   "metadata": {},
   "outputs": [],
   "source": [
    "queries = pd.read_csv(\"Summer Camp Task Data.csv\")"
   ]
  },
  {
   "cell_type": "code",
   "execution_count": 3,
   "metadata": {},
   "outputs": [
    {
     "data": {
      "text/html": [
       "<div>\n",
       "<style scoped>\n",
       "    .dataframe tbody tr th:only-of-type {\n",
       "        vertical-align: middle;\n",
       "    }\n",
       "\n",
       "    .dataframe tbody tr th {\n",
       "        vertical-align: top;\n",
       "    }\n",
       "\n",
       "    .dataframe thead th {\n",
       "        text-align: right;\n",
       "    }\n",
       "</style>\n",
       "<table border=\"1\" class=\"dataframe\">\n",
       "  <thead>\n",
       "    <tr style=\"text-align: right;\">\n",
       "      <th></th>\n",
       "      <th>action</th>\n",
       "      <th>created_at</th>\n",
       "      <th>source_event_id</th>\n",
       "      <th>device_id</th>\n",
       "      <th>post_page_offset</th>\n",
       "      <th>tokens</th>\n",
       "      <th>post_index_in_post_list</th>\n",
       "      <th>post_token</th>\n",
       "    </tr>\n",
       "  </thead>\n",
       "  <tbody>\n",
       "    <tr>\n",
       "      <th>0</th>\n",
       "      <td>load_post_page</td>\n",
       "      <td>1.609550e+12</td>\n",
       "      <td>1575558c-a702-46ef-8e18-bc5cef761473</td>\n",
       "      <td>Ed9EADRZRXCHcrcEP_Hnkg</td>\n",
       "      <td>26.0</td>\n",
       "      <td>[wXvP3enu, wXvHXzUS, wXvPHXVe, wXvPHRs3, wXvH3...</td>\n",
       "      <td>NaN</td>\n",
       "      <td>NaN</td>\n",
       "    </tr>\n",
       "    <tr>\n",
       "      <th>1</th>\n",
       "      <td>load_post_page</td>\n",
       "      <td>1.609550e+12</td>\n",
       "      <td>0fd004f4-ce9b-4766-ac96-7578dedebacb</td>\n",
       "      <td>5aVIp_PNSAWxqwBETYpmxQ</td>\n",
       "      <td>19.0</td>\n",
       "      <td>[wXujANbk, wXurAJsf, wXufwlh1, wXtr_4tD, wXujg...</td>\n",
       "      <td>NaN</td>\n",
       "      <td>NaN</td>\n",
       "    </tr>\n",
       "    <tr>\n",
       "      <th>2</th>\n",
       "      <td>load_post_page</td>\n",
       "      <td>1.609550e+12</td>\n",
       "      <td>479905f2-3bb4-4c90-8e88-5ce4b60d0a73</td>\n",
       "      <td>mt0UAT4AQe2dECdXBvKYBA</td>\n",
       "      <td>0.0</td>\n",
       "      <td>[wXvHbNqU, wXvDrof9, wXv_aXHk, wXvDrSIa, wXv_a...</td>\n",
       "      <td>NaN</td>\n",
       "      <td>NaN</td>\n",
       "    </tr>\n",
       "    <tr>\n",
       "      <th>3</th>\n",
       "      <td>load_post_page</td>\n",
       "      <td>1.609550e+12</td>\n",
       "      <td>b9b609bd-a486-42fb-b1a9-5ca03cf4a215</td>\n",
       "      <td>huSKUX-mSwyUcGzgSbXX6g</td>\n",
       "      <td>0.0</td>\n",
       "      <td>[wXvb7cpv, wXvH3hL0, wXvjmDaE, wXvT0sOS, wXv_j...</td>\n",
       "      <td>NaN</td>\n",
       "      <td>NaN</td>\n",
       "    </tr>\n",
       "    <tr>\n",
       "      <th>4</th>\n",
       "      <td>load_post_page</td>\n",
       "      <td>1.609550e+12</td>\n",
       "      <td>6c390fce-34b6-4e19-837e-6bc295a72514</td>\n",
       "      <td>sL5fLDdoR9a7aDGPP8N-jA</td>\n",
       "      <td>1.0</td>\n",
       "      <td>[wXvjJTIc, wXvb5_SX, wXvb54Gs, wXvb5t6J, wXvbJ...</td>\n",
       "      <td>NaN</td>\n",
       "      <td>NaN</td>\n",
       "    </tr>\n",
       "  </tbody>\n",
       "</table>\n",
       "</div>"
      ],
      "text/plain": [
       "           action    created_at                       source_event_id  \\\n",
       "0  load_post_page  1.609550e+12  1575558c-a702-46ef-8e18-bc5cef761473   \n",
       "1  load_post_page  1.609550e+12  0fd004f4-ce9b-4766-ac96-7578dedebacb   \n",
       "2  load_post_page  1.609550e+12  479905f2-3bb4-4c90-8e88-5ce4b60d0a73   \n",
       "3  load_post_page  1.609550e+12  b9b609bd-a486-42fb-b1a9-5ca03cf4a215   \n",
       "4  load_post_page  1.609550e+12  6c390fce-34b6-4e19-837e-6bc295a72514   \n",
       "\n",
       "                device_id  post_page_offset  \\\n",
       "0  Ed9EADRZRXCHcrcEP_Hnkg              26.0   \n",
       "1  5aVIp_PNSAWxqwBETYpmxQ              19.0   \n",
       "2  mt0UAT4AQe2dECdXBvKYBA               0.0   \n",
       "3  huSKUX-mSwyUcGzgSbXX6g               0.0   \n",
       "4  sL5fLDdoR9a7aDGPP8N-jA               1.0   \n",
       "\n",
       "                                              tokens  post_index_in_post_list  \\\n",
       "0  [wXvP3enu, wXvHXzUS, wXvPHXVe, wXvPHRs3, wXvH3...                      NaN   \n",
       "1  [wXujANbk, wXurAJsf, wXufwlh1, wXtr_4tD, wXujg...                      NaN   \n",
       "2  [wXvHbNqU, wXvDrof9, wXv_aXHk, wXvDrSIa, wXv_a...                      NaN   \n",
       "3  [wXvb7cpv, wXvH3hL0, wXvjmDaE, wXvT0sOS, wXv_j...                      NaN   \n",
       "4  [wXvjJTIc, wXvb5_SX, wXvb54Gs, wXvb5t6J, wXvbJ...                      NaN   \n",
       "\n",
       "  post_token  \n",
       "0        NaN  \n",
       "1        NaN  \n",
       "2        NaN  \n",
       "3        NaN  \n",
       "4        NaN  "
      ]
     },
     "execution_count": 3,
     "metadata": {},
     "output_type": "execute_result"
    }
   ],
   "source": [
    "queries.head()"
   ]
  },
  {
   "cell_type": "code",
   "execution_count": 4,
   "metadata": {},
   "outputs": [
    {
     "data": {
      "text/html": [
       "<div>\n",
       "<style scoped>\n",
       "    .dataframe tbody tr th:only-of-type {\n",
       "        vertical-align: middle;\n",
       "    }\n",
       "\n",
       "    .dataframe tbody tr th {\n",
       "        vertical-align: top;\n",
       "    }\n",
       "\n",
       "    .dataframe thead th {\n",
       "        text-align: right;\n",
       "    }\n",
       "</style>\n",
       "<table border=\"1\" class=\"dataframe\">\n",
       "  <thead>\n",
       "    <tr style=\"text-align: right;\">\n",
       "      <th></th>\n",
       "      <th>created_at</th>\n",
       "      <th>post_page_offset</th>\n",
       "      <th>post_index_in_post_list</th>\n",
       "    </tr>\n",
       "  </thead>\n",
       "  <tbody>\n",
       "    <tr>\n",
       "      <th>count</th>\n",
       "      <td>1.110830e+05</td>\n",
       "      <td>35287.000000</td>\n",
       "      <td>75796.000000</td>\n",
       "    </tr>\n",
       "    <tr>\n",
       "      <th>mean</th>\n",
       "      <td>1.609546e+12</td>\n",
       "      <td>8.673761</td>\n",
       "      <td>127.616418</td>\n",
       "    </tr>\n",
       "    <tr>\n",
       "      <th>std</th>\n",
       "      <td>5.598048e+06</td>\n",
       "      <td>16.059840</td>\n",
       "      <td>272.981195</td>\n",
       "    </tr>\n",
       "    <tr>\n",
       "      <th>min</th>\n",
       "      <td>1.609460e+12</td>\n",
       "      <td>0.000000</td>\n",
       "      <td>1.000000</td>\n",
       "    </tr>\n",
       "    <tr>\n",
       "      <th>25%</th>\n",
       "      <td>1.609540e+12</td>\n",
       "      <td>0.000000</td>\n",
       "      <td>11.000000</td>\n",
       "    </tr>\n",
       "    <tr>\n",
       "      <th>50%</th>\n",
       "      <td>1.609550e+12</td>\n",
       "      <td>3.000000</td>\n",
       "      <td>41.000000</td>\n",
       "    </tr>\n",
       "    <tr>\n",
       "      <th>75%</th>\n",
       "      <td>1.609550e+12</td>\n",
       "      <td>9.000000</td>\n",
       "      <td>124.000000</td>\n",
       "    </tr>\n",
       "    <tr>\n",
       "      <th>max</th>\n",
       "      <td>1.609630e+12</td>\n",
       "      <td>161.000000</td>\n",
       "      <td>5176.000000</td>\n",
       "    </tr>\n",
       "  </tbody>\n",
       "</table>\n",
       "</div>"
      ],
      "text/plain": [
       "         created_at  post_page_offset  post_index_in_post_list\n",
       "count  1.110830e+05      35287.000000             75796.000000\n",
       "mean   1.609546e+12          8.673761               127.616418\n",
       "std    5.598048e+06         16.059840               272.981195\n",
       "min    1.609460e+12          0.000000                 1.000000\n",
       "25%    1.609540e+12          0.000000                11.000000\n",
       "50%    1.609550e+12          3.000000                41.000000\n",
       "75%    1.609550e+12          9.000000               124.000000\n",
       "max    1.609630e+12        161.000000              5176.000000"
      ]
     },
     "execution_count": 4,
     "metadata": {},
     "output_type": "execute_result"
    }
   ],
   "source": [
    "queries.describe()"
   ]
  },
  {
   "cell_type": "code",
   "execution_count": 5,
   "metadata": {},
   "outputs": [
    {
     "data": {
      "text/plain": [
       "action                         0\n",
       "created_at                     0\n",
       "source_event_id                0\n",
       "device_id                      0\n",
       "post_page_offset           75796\n",
       "tokens                     75796\n",
       "post_index_in_post_list    35287\n",
       "post_token                 35287\n",
       "dtype: int64"
      ]
     },
     "execution_count": 5,
     "metadata": {},
     "output_type": "execute_result"
    }
   ],
   "source": [
    "queries.isnull().sum()"
   ]
  },
  {
   "cell_type": "code",
   "execution_count": 6,
   "metadata": {},
   "outputs": [
    {
     "data": {
      "text/plain": [
       "action                         0\n",
       "created_at                     0\n",
       "source_event_id                0\n",
       "device_id                      0\n",
       "post_page_offset               0\n",
       "tokens                         0\n",
       "post_index_in_post_list    35287\n",
       "post_token                 35287\n",
       "dtype: int64"
      ]
     },
     "execution_count": 6,
     "metadata": {},
     "output_type": "execute_result"
    }
   ],
   "source": [
    "queries.loc[queries.action == \"load_post_page\"].isnull().sum()"
   ]
  },
  {
   "cell_type": "code",
   "execution_count": 7,
   "metadata": {},
   "outputs": [
    {
     "data": {
      "text/plain": [
       "action                         0\n",
       "created_at                     0\n",
       "source_event_id                0\n",
       "device_id                      0\n",
       "post_page_offset           75796\n",
       "tokens                     75796\n",
       "post_index_in_post_list        0\n",
       "post_token                     0\n",
       "dtype: int64"
      ]
     },
     "execution_count": 7,
     "metadata": {},
     "output_type": "execute_result"
    }
   ],
   "source": [
    "queries.loc[queries.action == \"click_post\"].isnull().sum()"
   ]
  },
  {
   "cell_type": "markdown",
   "metadata": {},
   "source": [
    "# tokens type and len column "
   ]
  },
  {
   "cell_type": "code",
   "execution_count": 8,
   "metadata": {},
   "outputs": [],
   "source": [
    "queries.loc[queries.action == \"load_post_page\",\"tokens\"] = queries.loc[queries.action == \"load_post_page\"].tokens.apply(lambda df: list(df[1:-1].split(\", \")))"
   ]
  },
  {
   "cell_type": "code",
   "execution_count": 9,
   "metadata": {},
   "outputs": [
    {
     "data": {
      "text/plain": [
       "list"
      ]
     },
     "execution_count": 9,
     "metadata": {},
     "output_type": "execute_result"
    }
   ],
   "source": [
    "type(queries.loc[1,\"tokens\"])"
   ]
  },
  {
   "cell_type": "code",
   "execution_count": 10,
   "metadata": {},
   "outputs": [],
   "source": [
    "queries[\"len\"] = 0"
   ]
  },
  {
   "cell_type": "code",
   "execution_count": 11,
   "metadata": {},
   "outputs": [],
   "source": [
    "queries.loc[queries.action == \"load_post_page\",\"len\"] = queries.loc[queries.action == \"load_post_page\",\"tokens\"].apply(lambda x: len(x))"
   ]
  },
  {
   "cell_type": "code",
   "execution_count": 12,
   "metadata": {},
   "outputs": [
    {
     "data": {
      "text/html": [
       "<div>\n",
       "<style scoped>\n",
       "    .dataframe tbody tr th:only-of-type {\n",
       "        vertical-align: middle;\n",
       "    }\n",
       "\n",
       "    .dataframe tbody tr th {\n",
       "        vertical-align: top;\n",
       "    }\n",
       "\n",
       "    .dataframe thead th {\n",
       "        text-align: right;\n",
       "    }\n",
       "</style>\n",
       "<table border=\"1\" class=\"dataframe\">\n",
       "  <thead>\n",
       "    <tr style=\"text-align: right;\">\n",
       "      <th></th>\n",
       "      <th>action</th>\n",
       "      <th>created_at</th>\n",
       "      <th>source_event_id</th>\n",
       "      <th>device_id</th>\n",
       "      <th>post_page_offset</th>\n",
       "      <th>tokens</th>\n",
       "      <th>post_index_in_post_list</th>\n",
       "      <th>post_token</th>\n",
       "      <th>len</th>\n",
       "    </tr>\n",
       "  </thead>\n",
       "  <tbody>\n",
       "    <tr>\n",
       "      <th>0</th>\n",
       "      <td>load_post_page</td>\n",
       "      <td>1.609550e+12</td>\n",
       "      <td>1575558c-a702-46ef-8e18-bc5cef761473</td>\n",
       "      <td>Ed9EADRZRXCHcrcEP_Hnkg</td>\n",
       "      <td>26.0</td>\n",
       "      <td>[wXvP3enu, wXvHXzUS, wXvPHXVe, wXvPHRs3, wXvH3...</td>\n",
       "      <td>NaN</td>\n",
       "      <td>NaN</td>\n",
       "      <td>24</td>\n",
       "    </tr>\n",
       "    <tr>\n",
       "      <th>1</th>\n",
       "      <td>load_post_page</td>\n",
       "      <td>1.609550e+12</td>\n",
       "      <td>0fd004f4-ce9b-4766-ac96-7578dedebacb</td>\n",
       "      <td>5aVIp_PNSAWxqwBETYpmxQ</td>\n",
       "      <td>19.0</td>\n",
       "      <td>[wXujANbk, wXurAJsf, wXufwlh1, wXtr_4tD, wXujg...</td>\n",
       "      <td>NaN</td>\n",
       "      <td>NaN</td>\n",
       "      <td>24</td>\n",
       "    </tr>\n",
       "    <tr>\n",
       "      <th>2</th>\n",
       "      <td>load_post_page</td>\n",
       "      <td>1.609550e+12</td>\n",
       "      <td>479905f2-3bb4-4c90-8e88-5ce4b60d0a73</td>\n",
       "      <td>mt0UAT4AQe2dECdXBvKYBA</td>\n",
       "      <td>0.0</td>\n",
       "      <td>[wXvHbNqU, wXvDrof9, wXv_aXHk, wXvDrSIa, wXv_a...</td>\n",
       "      <td>NaN</td>\n",
       "      <td>NaN</td>\n",
       "      <td>24</td>\n",
       "    </tr>\n",
       "    <tr>\n",
       "      <th>3</th>\n",
       "      <td>load_post_page</td>\n",
       "      <td>1.609550e+12</td>\n",
       "      <td>b9b609bd-a486-42fb-b1a9-5ca03cf4a215</td>\n",
       "      <td>huSKUX-mSwyUcGzgSbXX6g</td>\n",
       "      <td>0.0</td>\n",
       "      <td>[wXvb7cpv, wXvH3hL0, wXvjmDaE, wXvT0sOS, wXv_j...</td>\n",
       "      <td>NaN</td>\n",
       "      <td>NaN</td>\n",
       "      <td>24</td>\n",
       "    </tr>\n",
       "    <tr>\n",
       "      <th>4</th>\n",
       "      <td>load_post_page</td>\n",
       "      <td>1.609550e+12</td>\n",
       "      <td>6c390fce-34b6-4e19-837e-6bc295a72514</td>\n",
       "      <td>sL5fLDdoR9a7aDGPP8N-jA</td>\n",
       "      <td>1.0</td>\n",
       "      <td>[wXvjJTIc, wXvb5_SX, wXvb54Gs, wXvb5t6J, wXvbJ...</td>\n",
       "      <td>NaN</td>\n",
       "      <td>NaN</td>\n",
       "      <td>24</td>\n",
       "    </tr>\n",
       "  </tbody>\n",
       "</table>\n",
       "</div>"
      ],
      "text/plain": [
       "           action    created_at                       source_event_id  \\\n",
       "0  load_post_page  1.609550e+12  1575558c-a702-46ef-8e18-bc5cef761473   \n",
       "1  load_post_page  1.609550e+12  0fd004f4-ce9b-4766-ac96-7578dedebacb   \n",
       "2  load_post_page  1.609550e+12  479905f2-3bb4-4c90-8e88-5ce4b60d0a73   \n",
       "3  load_post_page  1.609550e+12  b9b609bd-a486-42fb-b1a9-5ca03cf4a215   \n",
       "4  load_post_page  1.609550e+12  6c390fce-34b6-4e19-837e-6bc295a72514   \n",
       "\n",
       "                device_id  post_page_offset  \\\n",
       "0  Ed9EADRZRXCHcrcEP_Hnkg              26.0   \n",
       "1  5aVIp_PNSAWxqwBETYpmxQ              19.0   \n",
       "2  mt0UAT4AQe2dECdXBvKYBA               0.0   \n",
       "3  huSKUX-mSwyUcGzgSbXX6g               0.0   \n",
       "4  sL5fLDdoR9a7aDGPP8N-jA               1.0   \n",
       "\n",
       "                                              tokens  post_index_in_post_list  \\\n",
       "0  [wXvP3enu, wXvHXzUS, wXvPHXVe, wXvPHRs3, wXvH3...                      NaN   \n",
       "1  [wXujANbk, wXurAJsf, wXufwlh1, wXtr_4tD, wXujg...                      NaN   \n",
       "2  [wXvHbNqU, wXvDrof9, wXv_aXHk, wXvDrSIa, wXv_a...                      NaN   \n",
       "3  [wXvb7cpv, wXvH3hL0, wXvjmDaE, wXvT0sOS, wXv_j...                      NaN   \n",
       "4  [wXvjJTIc, wXvb5_SX, wXvb54Gs, wXvb5t6J, wXvbJ...                      NaN   \n",
       "\n",
       "  post_token  len  \n",
       "0        NaN   24  \n",
       "1        NaN   24  \n",
       "2        NaN   24  \n",
       "3        NaN   24  \n",
       "4        NaN   24  "
      ]
     },
     "execution_count": 12,
     "metadata": {},
     "output_type": "execute_result"
    }
   ],
   "source": [
    "queries.head()"
   ]
  },
  {
   "cell_type": "code",
   "execution_count": 13,
   "metadata": {},
   "outputs": [],
   "source": [
    "queries.post_page_offset = queries.post_page_offset.fillna(-1)\n",
    "queries.post_index_in_post_list = queries.post_index_in_post_list.fillna(-1)"
   ]
  },
  {
   "cell_type": "code",
   "execution_count": 14,
   "metadata": {},
   "outputs": [],
   "source": [
    "queries.post_page_offset = queries.post_page_offset.astype('int')\n",
    "queries.post_index_in_post_list = queries.post_index_in_post_list.astype('int')"
   ]
  },
  {
   "cell_type": "code",
   "execution_count": 15,
   "metadata": {},
   "outputs": [
    {
     "data": {
      "text/html": [
       "<div>\n",
       "<style scoped>\n",
       "    .dataframe tbody tr th:only-of-type {\n",
       "        vertical-align: middle;\n",
       "    }\n",
       "\n",
       "    .dataframe tbody tr th {\n",
       "        vertical-align: top;\n",
       "    }\n",
       "\n",
       "    .dataframe thead th {\n",
       "        text-align: right;\n",
       "    }\n",
       "</style>\n",
       "<table border=\"1\" class=\"dataframe\">\n",
       "  <thead>\n",
       "    <tr style=\"text-align: right;\">\n",
       "      <th></th>\n",
       "      <th>action</th>\n",
       "      <th>created_at</th>\n",
       "      <th>source_event_id</th>\n",
       "      <th>device_id</th>\n",
       "      <th>post_page_offset</th>\n",
       "      <th>tokens</th>\n",
       "      <th>post_index_in_post_list</th>\n",
       "      <th>post_token</th>\n",
       "      <th>len</th>\n",
       "    </tr>\n",
       "  </thead>\n",
       "  <tbody>\n",
       "    <tr>\n",
       "      <th>0</th>\n",
       "      <td>load_post_page</td>\n",
       "      <td>1.609550e+12</td>\n",
       "      <td>1575558c-a702-46ef-8e18-bc5cef761473</td>\n",
       "      <td>Ed9EADRZRXCHcrcEP_Hnkg</td>\n",
       "      <td>26</td>\n",
       "      <td>[wXvP3enu, wXvHXzUS, wXvPHXVe, wXvPHRs3, wXvH3...</td>\n",
       "      <td>-1</td>\n",
       "      <td>NaN</td>\n",
       "      <td>24</td>\n",
       "    </tr>\n",
       "    <tr>\n",
       "      <th>1</th>\n",
       "      <td>load_post_page</td>\n",
       "      <td>1.609550e+12</td>\n",
       "      <td>0fd004f4-ce9b-4766-ac96-7578dedebacb</td>\n",
       "      <td>5aVIp_PNSAWxqwBETYpmxQ</td>\n",
       "      <td>19</td>\n",
       "      <td>[wXujANbk, wXurAJsf, wXufwlh1, wXtr_4tD, wXujg...</td>\n",
       "      <td>-1</td>\n",
       "      <td>NaN</td>\n",
       "      <td>24</td>\n",
       "    </tr>\n",
       "    <tr>\n",
       "      <th>2</th>\n",
       "      <td>load_post_page</td>\n",
       "      <td>1.609550e+12</td>\n",
       "      <td>479905f2-3bb4-4c90-8e88-5ce4b60d0a73</td>\n",
       "      <td>mt0UAT4AQe2dECdXBvKYBA</td>\n",
       "      <td>0</td>\n",
       "      <td>[wXvHbNqU, wXvDrof9, wXv_aXHk, wXvDrSIa, wXv_a...</td>\n",
       "      <td>-1</td>\n",
       "      <td>NaN</td>\n",
       "      <td>24</td>\n",
       "    </tr>\n",
       "    <tr>\n",
       "      <th>3</th>\n",
       "      <td>load_post_page</td>\n",
       "      <td>1.609550e+12</td>\n",
       "      <td>b9b609bd-a486-42fb-b1a9-5ca03cf4a215</td>\n",
       "      <td>huSKUX-mSwyUcGzgSbXX6g</td>\n",
       "      <td>0</td>\n",
       "      <td>[wXvb7cpv, wXvH3hL0, wXvjmDaE, wXvT0sOS, wXv_j...</td>\n",
       "      <td>-1</td>\n",
       "      <td>NaN</td>\n",
       "      <td>24</td>\n",
       "    </tr>\n",
       "    <tr>\n",
       "      <th>4</th>\n",
       "      <td>load_post_page</td>\n",
       "      <td>1.609550e+12</td>\n",
       "      <td>6c390fce-34b6-4e19-837e-6bc295a72514</td>\n",
       "      <td>sL5fLDdoR9a7aDGPP8N-jA</td>\n",
       "      <td>1</td>\n",
       "      <td>[wXvjJTIc, wXvb5_SX, wXvb54Gs, wXvb5t6J, wXvbJ...</td>\n",
       "      <td>-1</td>\n",
       "      <td>NaN</td>\n",
       "      <td>24</td>\n",
       "    </tr>\n",
       "  </tbody>\n",
       "</table>\n",
       "</div>"
      ],
      "text/plain": [
       "           action    created_at                       source_event_id  \\\n",
       "0  load_post_page  1.609550e+12  1575558c-a702-46ef-8e18-bc5cef761473   \n",
       "1  load_post_page  1.609550e+12  0fd004f4-ce9b-4766-ac96-7578dedebacb   \n",
       "2  load_post_page  1.609550e+12  479905f2-3bb4-4c90-8e88-5ce4b60d0a73   \n",
       "3  load_post_page  1.609550e+12  b9b609bd-a486-42fb-b1a9-5ca03cf4a215   \n",
       "4  load_post_page  1.609550e+12  6c390fce-34b6-4e19-837e-6bc295a72514   \n",
       "\n",
       "                device_id  post_page_offset  \\\n",
       "0  Ed9EADRZRXCHcrcEP_Hnkg                26   \n",
       "1  5aVIp_PNSAWxqwBETYpmxQ                19   \n",
       "2  mt0UAT4AQe2dECdXBvKYBA                 0   \n",
       "3  huSKUX-mSwyUcGzgSbXX6g                 0   \n",
       "4  sL5fLDdoR9a7aDGPP8N-jA                 1   \n",
       "\n",
       "                                              tokens  post_index_in_post_list  \\\n",
       "0  [wXvP3enu, wXvHXzUS, wXvPHXVe, wXvPHRs3, wXvH3...                       -1   \n",
       "1  [wXujANbk, wXurAJsf, wXufwlh1, wXtr_4tD, wXujg...                       -1   \n",
       "2  [wXvHbNqU, wXvDrof9, wXv_aXHk, wXvDrSIa, wXv_a...                       -1   \n",
       "3  [wXvb7cpv, wXvH3hL0, wXvjmDaE, wXvT0sOS, wXv_j...                       -1   \n",
       "4  [wXvjJTIc, wXvb5_SX, wXvb54Gs, wXvb5t6J, wXvbJ...                       -1   \n",
       "\n",
       "  post_token  len  \n",
       "0        NaN   24  \n",
       "1        NaN   24  \n",
       "2        NaN   24  \n",
       "3        NaN   24  \n",
       "4        NaN   24  "
      ]
     },
     "execution_count": 15,
     "metadata": {},
     "output_type": "execute_result"
    }
   ],
   "source": [
    "queries.head()"
   ]
  },
  {
   "cell_type": "markdown",
   "metadata": {},
   "source": [
    "# Overview of data"
   ]
  },
  {
   "cell_type": "code",
   "execution_count": 16,
   "metadata": {},
   "outputs": [
    {
     "data": {
      "text/plain": [
       "array(['load_post_page', 'click_post'], dtype=object)"
      ]
     },
     "execution_count": 16,
     "metadata": {},
     "output_type": "execute_result"
    }
   ],
   "source": [
    "queries.action.unique()"
   ]
  },
  {
   "cell_type": "code",
   "execution_count": 17,
   "metadata": {},
   "outputs": [
    {
     "data": {
      "text/html": [
       "<div>\n",
       "<style scoped>\n",
       "    .dataframe tbody tr th:only-of-type {\n",
       "        vertical-align: middle;\n",
       "    }\n",
       "\n",
       "    .dataframe tbody tr th {\n",
       "        vertical-align: top;\n",
       "    }\n",
       "\n",
       "    .dataframe thead th {\n",
       "        text-align: right;\n",
       "    }\n",
       "</style>\n",
       "<table border=\"1\" class=\"dataframe\">\n",
       "  <thead>\n",
       "    <tr style=\"text-align: right;\">\n",
       "      <th></th>\n",
       "      <th>action</th>\n",
       "      <th>created_at</th>\n",
       "      <th>source_event_id</th>\n",
       "      <th>device_id</th>\n",
       "      <th>post_page_offset</th>\n",
       "      <th>tokens</th>\n",
       "      <th>post_index_in_post_list</th>\n",
       "      <th>post_token</th>\n",
       "      <th>len</th>\n",
       "    </tr>\n",
       "  </thead>\n",
       "  <tbody>\n",
       "    <tr>\n",
       "      <th>5429</th>\n",
       "      <td>click_post</td>\n",
       "      <td>1.609550e+12</td>\n",
       "      <td>be60130c-a660-4e23-954d-9bcf08377b24</td>\n",
       "      <td>VVaoaGZQQcysup51b96xFQ</td>\n",
       "      <td>-1</td>\n",
       "      <td>NaN</td>\n",
       "      <td>3</td>\n",
       "      <td>wXq3yGW3</td>\n",
       "      <td>0</td>\n",
       "    </tr>\n",
       "    <tr>\n",
       "      <th>5430</th>\n",
       "      <td>click_post</td>\n",
       "      <td>1.609550e+12</td>\n",
       "      <td>7cb93ab5-e0ec-4d5a-9245-b2e3ad87b9c3</td>\n",
       "      <td>kMPcgmnnRzGoVRomPVRz9A</td>\n",
       "      <td>-1</td>\n",
       "      <td>NaN</td>\n",
       "      <td>267</td>\n",
       "      <td>wXrn2a0w</td>\n",
       "      <td>0</td>\n",
       "    </tr>\n",
       "    <tr>\n",
       "      <th>5431</th>\n",
       "      <td>click_post</td>\n",
       "      <td>1.609540e+12</td>\n",
       "      <td>461e9683-e679-4448-bee3-d0b07353ab5d</td>\n",
       "      <td>bjiXJIm6RaWaw_7ASh5Gdw</td>\n",
       "      <td>-1</td>\n",
       "      <td>NaN</td>\n",
       "      <td>6</td>\n",
       "      <td>wXv7xXEj</td>\n",
       "      <td>0</td>\n",
       "    </tr>\n",
       "    <tr>\n",
       "      <th>5432</th>\n",
       "      <td>click_post</td>\n",
       "      <td>1.609540e+12</td>\n",
       "      <td>969745e6-25e5-46af-8c1b-f506429944f6</td>\n",
       "      <td>odyBXuz3Qn2-gmdEX-_ZOg</td>\n",
       "      <td>-1</td>\n",
       "      <td>NaN</td>\n",
       "      <td>17</td>\n",
       "      <td>wXnnSi0l</td>\n",
       "      <td>0</td>\n",
       "    </tr>\n",
       "    <tr>\n",
       "      <th>5433</th>\n",
       "      <td>click_post</td>\n",
       "      <td>1.609550e+12</td>\n",
       "      <td>5c422ed2-c7d5-4653-ac9c-1e2e890b97b5</td>\n",
       "      <td>_lgH2bn7Ty-6DuxrClGKUw</td>\n",
       "      <td>-1</td>\n",
       "      <td>NaN</td>\n",
       "      <td>174</td>\n",
       "      <td>wXqv95zt</td>\n",
       "      <td>0</td>\n",
       "    </tr>\n",
       "  </tbody>\n",
       "</table>\n",
       "</div>"
      ],
      "text/plain": [
       "          action    created_at                       source_event_id  \\\n",
       "5429  click_post  1.609550e+12  be60130c-a660-4e23-954d-9bcf08377b24   \n",
       "5430  click_post  1.609550e+12  7cb93ab5-e0ec-4d5a-9245-b2e3ad87b9c3   \n",
       "5431  click_post  1.609540e+12  461e9683-e679-4448-bee3-d0b07353ab5d   \n",
       "5432  click_post  1.609540e+12  969745e6-25e5-46af-8c1b-f506429944f6   \n",
       "5433  click_post  1.609550e+12  5c422ed2-c7d5-4653-ac9c-1e2e890b97b5   \n",
       "\n",
       "                   device_id  post_page_offset tokens  \\\n",
       "5429  VVaoaGZQQcysup51b96xFQ                -1    NaN   \n",
       "5430  kMPcgmnnRzGoVRomPVRz9A                -1    NaN   \n",
       "5431  bjiXJIm6RaWaw_7ASh5Gdw                -1    NaN   \n",
       "5432  odyBXuz3Qn2-gmdEX-_ZOg                -1    NaN   \n",
       "5433  _lgH2bn7Ty-6DuxrClGKUw                -1    NaN   \n",
       "\n",
       "      post_index_in_post_list post_token  len  \n",
       "5429                        3   wXq3yGW3    0  \n",
       "5430                      267   wXrn2a0w    0  \n",
       "5431                        6   wXv7xXEj    0  \n",
       "5432                       17   wXnnSi0l    0  \n",
       "5433                      174   wXqv95zt    0  "
      ]
     },
     "execution_count": 17,
     "metadata": {},
     "output_type": "execute_result"
    }
   ],
   "source": [
    "queries.loc[queries.action == \"click_post\"].head()"
   ]
  },
  {
   "cell_type": "code",
   "execution_count": 18,
   "metadata": {},
   "outputs": [
    {
     "data": {
      "text/html": [
       "<div>\n",
       "<style scoped>\n",
       "    .dataframe tbody tr th:only-of-type {\n",
       "        vertical-align: middle;\n",
       "    }\n",
       "\n",
       "    .dataframe tbody tr th {\n",
       "        vertical-align: top;\n",
       "    }\n",
       "\n",
       "    .dataframe thead th {\n",
       "        text-align: right;\n",
       "    }\n",
       "</style>\n",
       "<table border=\"1\" class=\"dataframe\">\n",
       "  <thead>\n",
       "    <tr style=\"text-align: right;\">\n",
       "      <th></th>\n",
       "      <th>action</th>\n",
       "      <th>created_at</th>\n",
       "      <th>source_event_id</th>\n",
       "      <th>device_id</th>\n",
       "      <th>post_page_offset</th>\n",
       "      <th>tokens</th>\n",
       "      <th>post_index_in_post_list</th>\n",
       "      <th>post_token</th>\n",
       "      <th>len</th>\n",
       "    </tr>\n",
       "  </thead>\n",
       "  <tbody>\n",
       "    <tr>\n",
       "      <th>0</th>\n",
       "      <td>load_post_page</td>\n",
       "      <td>1.609550e+12</td>\n",
       "      <td>1575558c-a702-46ef-8e18-bc5cef761473</td>\n",
       "      <td>Ed9EADRZRXCHcrcEP_Hnkg</td>\n",
       "      <td>26</td>\n",
       "      <td>[wXvP3enu, wXvHXzUS, wXvPHXVe, wXvPHRs3, wXvH3...</td>\n",
       "      <td>-1</td>\n",
       "      <td>NaN</td>\n",
       "      <td>24</td>\n",
       "    </tr>\n",
       "    <tr>\n",
       "      <th>1</th>\n",
       "      <td>load_post_page</td>\n",
       "      <td>1.609550e+12</td>\n",
       "      <td>0fd004f4-ce9b-4766-ac96-7578dedebacb</td>\n",
       "      <td>5aVIp_PNSAWxqwBETYpmxQ</td>\n",
       "      <td>19</td>\n",
       "      <td>[wXujANbk, wXurAJsf, wXufwlh1, wXtr_4tD, wXujg...</td>\n",
       "      <td>-1</td>\n",
       "      <td>NaN</td>\n",
       "      <td>24</td>\n",
       "    </tr>\n",
       "    <tr>\n",
       "      <th>2</th>\n",
       "      <td>load_post_page</td>\n",
       "      <td>1.609550e+12</td>\n",
       "      <td>479905f2-3bb4-4c90-8e88-5ce4b60d0a73</td>\n",
       "      <td>mt0UAT4AQe2dECdXBvKYBA</td>\n",
       "      <td>0</td>\n",
       "      <td>[wXvHbNqU, wXvDrof9, wXv_aXHk, wXvDrSIa, wXv_a...</td>\n",
       "      <td>-1</td>\n",
       "      <td>NaN</td>\n",
       "      <td>24</td>\n",
       "    </tr>\n",
       "    <tr>\n",
       "      <th>3</th>\n",
       "      <td>load_post_page</td>\n",
       "      <td>1.609550e+12</td>\n",
       "      <td>b9b609bd-a486-42fb-b1a9-5ca03cf4a215</td>\n",
       "      <td>huSKUX-mSwyUcGzgSbXX6g</td>\n",
       "      <td>0</td>\n",
       "      <td>[wXvb7cpv, wXvH3hL0, wXvjmDaE, wXvT0sOS, wXv_j...</td>\n",
       "      <td>-1</td>\n",
       "      <td>NaN</td>\n",
       "      <td>24</td>\n",
       "    </tr>\n",
       "    <tr>\n",
       "      <th>4</th>\n",
       "      <td>load_post_page</td>\n",
       "      <td>1.609550e+12</td>\n",
       "      <td>6c390fce-34b6-4e19-837e-6bc295a72514</td>\n",
       "      <td>sL5fLDdoR9a7aDGPP8N-jA</td>\n",
       "      <td>1</td>\n",
       "      <td>[wXvjJTIc, wXvb5_SX, wXvb54Gs, wXvb5t6J, wXvbJ...</td>\n",
       "      <td>-1</td>\n",
       "      <td>NaN</td>\n",
       "      <td>24</td>\n",
       "    </tr>\n",
       "  </tbody>\n",
       "</table>\n",
       "</div>"
      ],
      "text/plain": [
       "           action    created_at                       source_event_id  \\\n",
       "0  load_post_page  1.609550e+12  1575558c-a702-46ef-8e18-bc5cef761473   \n",
       "1  load_post_page  1.609550e+12  0fd004f4-ce9b-4766-ac96-7578dedebacb   \n",
       "2  load_post_page  1.609550e+12  479905f2-3bb4-4c90-8e88-5ce4b60d0a73   \n",
       "3  load_post_page  1.609550e+12  b9b609bd-a486-42fb-b1a9-5ca03cf4a215   \n",
       "4  load_post_page  1.609550e+12  6c390fce-34b6-4e19-837e-6bc295a72514   \n",
       "\n",
       "                device_id  post_page_offset  \\\n",
       "0  Ed9EADRZRXCHcrcEP_Hnkg                26   \n",
       "1  5aVIp_PNSAWxqwBETYpmxQ                19   \n",
       "2  mt0UAT4AQe2dECdXBvKYBA                 0   \n",
       "3  huSKUX-mSwyUcGzgSbXX6g                 0   \n",
       "4  sL5fLDdoR9a7aDGPP8N-jA                 1   \n",
       "\n",
       "                                              tokens  post_index_in_post_list  \\\n",
       "0  [wXvP3enu, wXvHXzUS, wXvPHXVe, wXvPHRs3, wXvH3...                       -1   \n",
       "1  [wXujANbk, wXurAJsf, wXufwlh1, wXtr_4tD, wXujg...                       -1   \n",
       "2  [wXvHbNqU, wXvDrof9, wXv_aXHk, wXvDrSIa, wXv_a...                       -1   \n",
       "3  [wXvb7cpv, wXvH3hL0, wXvjmDaE, wXvT0sOS, wXv_j...                       -1   \n",
       "4  [wXvjJTIc, wXvb5_SX, wXvb54Gs, wXvb5t6J, wXvbJ...                       -1   \n",
       "\n",
       "  post_token  len  \n",
       "0        NaN   24  \n",
       "1        NaN   24  \n",
       "2        NaN   24  \n",
       "3        NaN   24  \n",
       "4        NaN   24  "
      ]
     },
     "execution_count": 18,
     "metadata": {},
     "output_type": "execute_result"
    }
   ],
   "source": [
    "queries.loc[queries.action != \"click_post\"].head()"
   ]
  },
  {
   "cell_type": "code",
   "execution_count": 19,
   "metadata": {},
   "outputs": [
    {
     "data": {
      "text/plain": [
       "5013"
      ]
     },
     "execution_count": 19,
     "metadata": {},
     "output_type": "execute_result"
    }
   ],
   "source": [
    "len(queries.device_id.unique())"
   ]
  },
  {
   "cell_type": "code",
   "execution_count": 20,
   "metadata": {},
   "outputs": [
    {
     "data": {
      "text/plain": [
       "14296"
      ]
     },
     "execution_count": 20,
     "metadata": {},
     "output_type": "execute_result"
    }
   ],
   "source": [
    "len(queries.source_event_id.unique())"
   ]
  },
  {
   "cell_type": "code",
   "execution_count": 22,
   "metadata": {},
   "outputs": [
    {
     "data": {
      "text/html": [
       "<div>\n",
       "<style scoped>\n",
       "    .dataframe tbody tr th:only-of-type {\n",
       "        vertical-align: middle;\n",
       "    }\n",
       "\n",
       "    .dataframe tbody tr th {\n",
       "        vertical-align: top;\n",
       "    }\n",
       "\n",
       "    .dataframe thead th {\n",
       "        text-align: right;\n",
       "    }\n",
       "</style>\n",
       "<table border=\"1\" class=\"dataframe\">\n",
       "  <thead>\n",
       "    <tr style=\"text-align: right;\">\n",
       "      <th></th>\n",
       "      <th>action</th>\n",
       "      <th>created_at</th>\n",
       "      <th>source_event_id</th>\n",
       "      <th>device_id</th>\n",
       "      <th>post_page_offset</th>\n",
       "      <th>tokens</th>\n",
       "      <th>post_index_in_post_list</th>\n",
       "      <th>post_token</th>\n",
       "      <th>len</th>\n",
       "    </tr>\n",
       "  </thead>\n",
       "  <tbody>\n",
       "    <tr>\n",
       "      <th>6</th>\n",
       "      <td>load_post_page</td>\n",
       "      <td>1.609550e+12</td>\n",
       "      <td>576278e1-9af0-4ed9-95c8-09a6b6c2e958</td>\n",
       "      <td>TVDfsdqOS1eqxuUm2EHe6g</td>\n",
       "      <td>0</td>\n",
       "      <td>[wXr_DuyQ, wXpr43e5, wXl_rC8t, wXkLrzBv, wXV7M...</td>\n",
       "      <td>-1</td>\n",
       "      <td>NaN</td>\n",
       "      <td>10</td>\n",
       "    </tr>\n",
       "    <tr>\n",
       "      <th>32</th>\n",
       "      <td>load_post_page</td>\n",
       "      <td>1.609550e+12</td>\n",
       "      <td>c38f238c-83dc-4b18-a928-728fe8947608</td>\n",
       "      <td>VszFqQDyS4WmwuBF6pYU7A</td>\n",
       "      <td>0</td>\n",
       "      <td>[wXrLw3_f, wXnf6zpr, wXk3doU-, wXkjcLjv, wXTLC...</td>\n",
       "      <td>-1</td>\n",
       "      <td>NaN</td>\n",
       "      <td>8</td>\n",
       "    </tr>\n",
       "    <tr>\n",
       "      <th>33</th>\n",
       "      <td>load_post_page</td>\n",
       "      <td>1.609540e+12</td>\n",
       "      <td>ea658b82-c5cf-4b2a-957a-3f2fb6b91fab</td>\n",
       "      <td>oYxF1k4UT2yggpprUyUTlg</td>\n",
       "      <td>0</td>\n",
       "      <td>[wX4tAmXm, wX1Jmy5h, wXeSEm3B, wXVD7SNe, wXrO3...</td>\n",
       "      <td>-1</td>\n",
       "      <td>NaN</td>\n",
       "      <td>7</td>\n",
       "    </tr>\n",
       "    <tr>\n",
       "      <th>57</th>\n",
       "      <td>load_post_page</td>\n",
       "      <td>1.609550e+12</td>\n",
       "      <td>e3ad3505-c716-41cd-8df0-b7559a7501c7</td>\n",
       "      <td>JD6SPf7DRAysn8PRCvQT3g</td>\n",
       "      <td>1</td>\n",
       "      <td>[wXdjs38e, wXcX25yp, wXWDQayT, wXXnhvgk, wXUrX...</td>\n",
       "      <td>-1</td>\n",
       "      <td>NaN</td>\n",
       "      <td>7</td>\n",
       "    </tr>\n",
       "    <tr>\n",
       "      <th>67</th>\n",
       "      <td>load_post_page</td>\n",
       "      <td>1.609550e+12</td>\n",
       "      <td>0a951231-3f7d-47c2-bd1f-8f6899007584</td>\n",
       "      <td>fUIvCCkJTXSGg4wgh89mVA</td>\n",
       "      <td>27</td>\n",
       "      <td>[wXKvDwfH, wXK7iQH8, wXKnBWlR, wXBXh1G9, wXKbw...</td>\n",
       "      <td>-1</td>\n",
       "      <td>NaN</td>\n",
       "      <td>21</td>\n",
       "    </tr>\n",
       "  </tbody>\n",
       "</table>\n",
       "</div>"
      ],
      "text/plain": [
       "            action    created_at                       source_event_id  \\\n",
       "6   load_post_page  1.609550e+12  576278e1-9af0-4ed9-95c8-09a6b6c2e958   \n",
       "32  load_post_page  1.609550e+12  c38f238c-83dc-4b18-a928-728fe8947608   \n",
       "33  load_post_page  1.609540e+12  ea658b82-c5cf-4b2a-957a-3f2fb6b91fab   \n",
       "57  load_post_page  1.609550e+12  e3ad3505-c716-41cd-8df0-b7559a7501c7   \n",
       "67  load_post_page  1.609550e+12  0a951231-3f7d-47c2-bd1f-8f6899007584   \n",
       "\n",
       "                 device_id  post_page_offset  \\\n",
       "6   TVDfsdqOS1eqxuUm2EHe6g                 0   \n",
       "32  VszFqQDyS4WmwuBF6pYU7A                 0   \n",
       "33  oYxF1k4UT2yggpprUyUTlg                 0   \n",
       "57  JD6SPf7DRAysn8PRCvQT3g                 1   \n",
       "67  fUIvCCkJTXSGg4wgh89mVA                27   \n",
       "\n",
       "                                               tokens  \\\n",
       "6   [wXr_DuyQ, wXpr43e5, wXl_rC8t, wXkLrzBv, wXV7M...   \n",
       "32  [wXrLw3_f, wXnf6zpr, wXk3doU-, wXkjcLjv, wXTLC...   \n",
       "33  [wX4tAmXm, wX1Jmy5h, wXeSEm3B, wXVD7SNe, wXrO3...   \n",
       "57  [wXdjs38e, wXcX25yp, wXWDQayT, wXXnhvgk, wXUrX...   \n",
       "67  [wXKvDwfH, wXK7iQH8, wXKnBWlR, wXBXh1G9, wXKbw...   \n",
       "\n",
       "    post_index_in_post_list post_token  len  \n",
       "6                        -1        NaN   10  \n",
       "32                       -1        NaN    8  \n",
       "33                       -1        NaN    7  \n",
       "57                       -1        NaN    7  \n",
       "67                       -1        NaN   21  "
      ]
     },
     "execution_count": 22,
     "metadata": {},
     "output_type": "execute_result"
    }
   ],
   "source": [
    "queries.loc[queries.len != 24].head()"
   ]
  },
  {
   "cell_type": "code",
   "execution_count": 23,
   "metadata": {},
   "outputs": [
    {
     "data": {
      "text/plain": [
       "array([24, 10,  8,  7, 21, 11,  4,  3, 20, 23,  1,  5,  2, 19, 17, 12,  6,\n",
       "        9, 15, 13, 14, 16, 22, 18,  0], dtype=int64)"
      ]
     },
     "execution_count": 23,
     "metadata": {},
     "output_type": "execute_result"
    }
   ],
   "source": [
    "queries.len.unique()"
   ]
  },
  {
   "cell_type": "code",
   "execution_count": 24,
   "metadata": {},
   "outputs": [],
   "source": [
    "pt_len = queries.loc[queries.action != \"load_post_page\",\"post_token\"].apply(lambda x: len(x))"
   ]
  },
  {
   "cell_type": "code",
   "execution_count": 25,
   "metadata": {},
   "outputs": [
    {
     "data": {
      "text/plain": [
       "array([8, 9, 6], dtype=int64)"
      ]
     },
     "execution_count": 25,
     "metadata": {},
     "output_type": "execute_result"
    }
   ],
   "source": [
    "pt_len.unique()"
   ]
  },
  {
   "cell_type": "code",
   "execution_count": 26,
   "metadata": {},
   "outputs": [
    {
     "data": {
      "text/plain": [
       "12707     9\n",
       "13931     9\n",
       "16984     9\n",
       "20191     9\n",
       "20940     9\n",
       "21057     9\n",
       "24080     9\n",
       "27693     9\n",
       "30048     9\n",
       "32715     9\n",
       "41205     6\n",
       "45968     9\n",
       "48534     9\n",
       "51464     9\n",
       "56618     9\n",
       "61784     9\n",
       "72514     9\n",
       "73627     9\n",
       "74114     9\n",
       "76747     9\n",
       "77491     9\n",
       "95728     9\n",
       "104023    9\n",
       "105354    9\n",
       "106232    9\n",
       "Name: post_token, dtype: int64"
      ]
     },
     "execution_count": 26,
     "metadata": {},
     "output_type": "execute_result"
    }
   ],
   "source": [
    "pt_len.loc[pt_len != 8]"
   ]
  },
  {
   "cell_type": "code",
   "execution_count": 27,
   "metadata": {},
   "outputs": [
    {
     "data": {
      "text/plain": [
       "action                                               click_post\n",
       "created_at                                          1.60955e+12\n",
       "source_event_id            7ef56e51-cdb6-40dc-9615-61f6e9c54fd1\n",
       "device_id                                jAkoL7h7SlSJRPlxfmtnDg\n",
       "post_page_offset                                             -1\n",
       "tokens                                                      NaN\n",
       "post_index_in_post_list                                      22\n",
       "post_token                                               #NAME?\n",
       "len                                                           0\n",
       "Name: 41205, dtype: object"
      ]
     },
     "execution_count": 27,
     "metadata": {},
     "output_type": "execute_result"
    }
   ],
   "source": [
    "queries.loc[41205]"
   ]
  },
  {
   "cell_type": "code",
   "execution_count": 28,
   "metadata": {},
   "outputs": [],
   "source": [
    "di = queries.loc[queries.action == \"load_post_page\",\"device_id\"].apply(lambda x: len(x))"
   ]
  },
  {
   "cell_type": "code",
   "execution_count": 29,
   "metadata": {},
   "outputs": [
    {
     "data": {
      "text/plain": [
       "array([22,  6], dtype=int64)"
      ]
     },
     "execution_count": 29,
     "metadata": {},
     "output_type": "execute_result"
    }
   ],
   "source": [
    "di.unique()"
   ]
  },
  {
   "cell_type": "code",
   "execution_count": 30,
   "metadata": {},
   "outputs": [
    {
     "data": {
      "text/plain": [
       "30        6\n",
       "49        6\n",
       "59        6\n",
       "168       6\n",
       "211       6\n",
       "         ..\n",
       "110903    6\n",
       "110918    6\n",
       "110922    6\n",
       "111027    6\n",
       "111079    6\n",
       "Name: device_id, Length: 509, dtype: int64"
      ]
     },
     "execution_count": 30,
     "metadata": {},
     "output_type": "execute_result"
    }
   ],
   "source": [
    "di.loc[di != 22]"
   ]
  },
  {
   "cell_type": "code",
   "execution_count": 31,
   "metadata": {},
   "outputs": [
    {
     "data": {
      "text/plain": [
       "action                                                        load_post_page\n",
       "created_at                                                       1.60955e+12\n",
       "source_event_id                         14282fc7-f431-43b6-8c07-423f33be3d74\n",
       "device_id                                                             #NAME?\n",
       "post_page_offset                                                           1\n",
       "tokens                     [wXYr2lVk, wXXj7iDP, wXXXIsQr, wXQbXKz6, wXN3t...\n",
       "post_index_in_post_list                                                   -1\n",
       "post_token                                                               NaN\n",
       "len                                                                       13\n",
       "Name: 111079, dtype: object"
      ]
     },
     "execution_count": 31,
     "metadata": {},
     "output_type": "execute_result"
    }
   ],
   "source": [
    "queries.iloc[111079]"
   ]
  },
  {
   "cell_type": "markdown",
   "metadata": {},
   "source": [
    "# Q2"
   ]
  },
  {
   "cell_type": "markdown",
   "metadata": {},
   "source": [
    "# Q2 == Part 1 "
   ]
  },
  {
   "cell_type": "code",
   "execution_count": 32,
   "metadata": {},
   "outputs": [],
   "source": [
    "dark_queries = queries.loc[queries.action == \"load_post_page\"].groupby(\"source_event_id\").len.sum()"
   ]
  },
  {
   "cell_type": "code",
   "execution_count": 33,
   "metadata": {},
   "outputs": [
    {
     "data": {
      "text/plain": [
       "source_event_id\n",
       "00049ef3-c027-4f55-869c-46711f0ea0ad     24\n",
       "00069dda-4175-4bb0-8ef0-c0e1031d4da6     24\n",
       "0017c208-e016-4231-a022-598ba020f1ff    168\n",
       "002222cf-9e4b-4432-9e36-ad500a753850     24\n",
       "004dc60d-2288-453f-bcda-1ad5e8d8211f     25\n",
       "                                       ... \n",
       "ffda8068-9c22-46f0-971e-6b2b19c764ea    216\n",
       "ffeaa17f-ee79-4f42-be58-afd60a5aef37     48\n",
       "ffec4e11-c0a1-4fa4-8613-0979d6f46918    528\n",
       "ffef6048-9db0-4244-9750-3b530552f0ec    840\n",
       "fffc83a5-3f35-4cfe-bb4d-e1b9bf709860     24\n",
       "Name: len, Length: 9381, dtype: int64"
      ]
     },
     "execution_count": 33,
     "metadata": {},
     "output_type": "execute_result"
    }
   ],
   "source": [
    "dark_queries"
   ]
  },
  {
   "cell_type": "code",
   "execution_count": 34,
   "metadata": {},
   "outputs": [
    {
     "data": {
      "text/plain": [
       "source_event_id\n",
       "005d3801-cbd8-4432-be02-3b85c10f6938    2\n",
       "009e2d57-d038-4268-9ec4-d021e6894667    7\n",
       "00da5fcb-4246-4b82-a9b2-081810d52c07    3\n",
       "00f30b06-7303-44a8-9623-ad4144d8200b    3\n",
       "00fad06c-a499-41f9-8cea-84441e09b7fb    7\n",
       "                                       ..\n",
       "fe698e47-7e9e-43c6-bda4-43446ad25105    8\n",
       "feda3b8c-1c37-413c-9434-74a9c05e2f87    1\n",
       "ff8f1058-b437-494c-8dde-792325cd30fd    1\n",
       "ffbc107f-45f5-4dcf-b496-ce421de644a4    3\n",
       "ffd0cb32-0cd6-44d3-ad02-b87b764a47dd    2\n",
       "Name: len, Length: 1138, dtype: int64"
      ]
     },
     "execution_count": 34,
     "metadata": {},
     "output_type": "execute_result"
    }
   ],
   "source": [
    "dark_queries.loc[dark_queries < 10]"
   ]
  },
  {
   "cell_type": "code",
   "execution_count": 35,
   "metadata": {},
   "outputs": [],
   "source": [
    "dark_query_percent = len(dark_queries.loc[dark_queries < 10]) / len(queries.source_event_id.unique())"
   ]
  },
  {
   "cell_type": "code",
   "execution_count": 36,
   "metadata": {},
   "outputs": [],
   "source": [
    "dark_query_percent *= 100"
   ]
  },
  {
   "cell_type": "code",
   "execution_count": 37,
   "metadata": {},
   "outputs": [
    {
     "data": {
      "text/plain": [
       "7.960268606603246"
      ]
     },
     "execution_count": 37,
     "metadata": {},
     "output_type": "execute_result"
    }
   ],
   "source": [
    "dark_query_percent"
   ]
  },
  {
   "cell_type": "markdown",
   "metadata": {},
   "source": [
    "# Q2 == Part 2"
   ]
  },
  {
   "cell_type": "code",
   "execution_count": 38,
   "metadata": {},
   "outputs": [],
   "source": [
    "clicked_percent = len(queries.loc[queries.action == \"click_post\"].source_event_id.unique()) / len(queries.source_event_id.unique())"
   ]
  },
  {
   "cell_type": "code",
   "execution_count": 39,
   "metadata": {},
   "outputs": [],
   "source": [
    "query_bounce_rate = 1 - clicked_percent"
   ]
  },
  {
   "cell_type": "code",
   "execution_count": 40,
   "metadata": {},
   "outputs": [],
   "source": [
    "query_bounce_rate *= 100"
   ]
  },
  {
   "cell_type": "code",
   "execution_count": 41,
   "metadata": {},
   "outputs": [
    {
     "data": {
      "text/plain": [
       "24.314493564633466"
      ]
     },
     "execution_count": 41,
     "metadata": {},
     "output_type": "execute_result"
    }
   ],
   "source": [
    "query_bounce_rate"
   ]
  },
  {
   "cell_type": "markdown",
   "metadata": {},
   "source": [
    "# Q3"
   ]
  },
  {
   "cell_type": "markdown",
   "metadata": {},
   "source": [
    "# Q3 == Part 1"
   ]
  },
  {
   "cell_type": "code",
   "execution_count": 42,
   "metadata": {},
   "outputs": [],
   "source": [
    "clicked = queries.loc[queries.action == \"click_post\"].groupby([\"source_event_id\"]).source_event_id.count()"
   ]
  },
  {
   "cell_type": "code",
   "execution_count": 43,
   "metadata": {},
   "outputs": [],
   "source": [
    "loaded = queries.loc[queries.action == \"load_post_page\"].groupby(\"source_event_id\").len.sum()"
   ]
  },
  {
   "cell_type": "code",
   "execution_count": 44,
   "metadata": {},
   "outputs": [
    {
     "data": {
      "text/plain": [
       "source_event_id\n",
       "00049ef3-c027-4f55-869c-46711f0ea0ad     24\n",
       "00069dda-4175-4bb0-8ef0-c0e1031d4da6     24\n",
       "0017c208-e016-4231-a022-598ba020f1ff    168\n",
       "002222cf-9e4b-4432-9e36-ad500a753850     24\n",
       "004dc60d-2288-453f-bcda-1ad5e8d8211f     25\n",
       "                                       ... \n",
       "ffda8068-9c22-46f0-971e-6b2b19c764ea    216\n",
       "ffeaa17f-ee79-4f42-be58-afd60a5aef37     48\n",
       "ffec4e11-c0a1-4fa4-8613-0979d6f46918    528\n",
       "ffef6048-9db0-4244-9750-3b530552f0ec    840\n",
       "fffc83a5-3f35-4cfe-bb4d-e1b9bf709860     24\n",
       "Name: len, Length: 9381, dtype: int64"
      ]
     },
     "execution_count": 44,
     "metadata": {},
     "output_type": "execute_result"
    }
   ],
   "source": [
    "loaded"
   ]
  },
  {
   "cell_type": "code",
   "execution_count": 45,
   "metadata": {},
   "outputs": [
    {
     "data": {
      "text/plain": [
       "source_event_id\n",
       "00142c59-745c-4004-a955-698ddcf1faa6     4\n",
       "0016f59f-9fb3-4ab5-ae78-9783314b81fc    10\n",
       "0017b9ef-5903-40f9-a219-85728eb78436     5\n",
       "0017c208-e016-4231-a022-598ba020f1ff     4\n",
       "00240c5c-9d06-4fcd-93f5-93b842fdab63     1\n",
       "                                        ..\n",
       "ffdd48fc-4c05-4c75-bf8c-5cd42729d2b8     5\n",
       "ffe3a1f8-c363-4fbb-af5f-0d244b21aea4     7\n",
       "ffec4e11-c0a1-4fa4-8613-0979d6f46918     5\n",
       "ffef31ea-cb4e-4d00-98ca-118df330cdca     2\n",
       "ffef6048-9db0-4244-9750-3b530552f0ec    43\n",
       "Name: source_event_id, Length: 10820, dtype: int64"
      ]
     },
     "execution_count": 45,
     "metadata": {},
     "output_type": "execute_result"
    }
   ],
   "source": [
    "clicked"
   ]
  },
  {
   "cell_type": "code",
   "execution_count": 46,
   "metadata": {},
   "outputs": [],
   "source": [
    "clicked_per_loaded = clicked / loaded"
   ]
  },
  {
   "cell_type": "code",
   "execution_count": 47,
   "metadata": {},
   "outputs": [
    {
     "data": {
      "text/plain": [
       "source_event_id\n",
       "00049ef3-c027-4f55-869c-46711f0ea0ad    0.00000\n",
       "00069dda-4175-4bb0-8ef0-c0e1031d4da6    0.00000\n",
       "00142c59-745c-4004-a955-698ddcf1faa6    0.00000\n",
       "0016f59f-9fb3-4ab5-ae78-9783314b81fc    0.00000\n",
       "0017b9ef-5903-40f9-a219-85728eb78436    0.00000\n",
       "                                         ...   \n",
       "ffeaa17f-ee79-4f42-be58-afd60a5aef37    0.00000\n",
       "ffec4e11-c0a1-4fa4-8613-0979d6f46918    0.00947\n",
       "ffef31ea-cb4e-4d00-98ca-118df330cdca    0.00000\n",
       "ffef6048-9db0-4244-9750-3b530552f0ec    0.05119\n",
       "fffc83a5-3f35-4cfe-bb4d-e1b9bf709860    0.00000\n",
       "Length: 14296, dtype: float64"
      ]
     },
     "execution_count": 47,
     "metadata": {},
     "output_type": "execute_result"
    }
   ],
   "source": [
    "clicked_per_loaded.fillna(0)"
   ]
  },
  {
   "cell_type": "markdown",
   "metadata": {},
   "source": [
    "# Q3 == Part 2"
   ]
  },
  {
   "cell_type": "code",
   "execution_count": 48,
   "metadata": {},
   "outputs": [],
   "source": [
    "clicked = queries.loc[queries.action == \"click_post\"]"
   ]
  },
  {
   "cell_type": "code",
   "execution_count": 49,
   "metadata": {},
   "outputs": [
    {
     "data": {
      "text/html": [
       "<div>\n",
       "<style scoped>\n",
       "    .dataframe tbody tr th:only-of-type {\n",
       "        vertical-align: middle;\n",
       "    }\n",
       "\n",
       "    .dataframe tbody tr th {\n",
       "        vertical-align: top;\n",
       "    }\n",
       "\n",
       "    .dataframe thead th {\n",
       "        text-align: right;\n",
       "    }\n",
       "</style>\n",
       "<table border=\"1\" class=\"dataframe\">\n",
       "  <thead>\n",
       "    <tr style=\"text-align: right;\">\n",
       "      <th></th>\n",
       "      <th>action</th>\n",
       "      <th>created_at</th>\n",
       "      <th>source_event_id</th>\n",
       "      <th>device_id</th>\n",
       "      <th>post_page_offset</th>\n",
       "      <th>tokens</th>\n",
       "      <th>post_index_in_post_list</th>\n",
       "      <th>post_token</th>\n",
       "      <th>len</th>\n",
       "    </tr>\n",
       "  </thead>\n",
       "  <tbody>\n",
       "    <tr>\n",
       "      <th>5429</th>\n",
       "      <td>click_post</td>\n",
       "      <td>1.609550e+12</td>\n",
       "      <td>be60130c-a660-4e23-954d-9bcf08377b24</td>\n",
       "      <td>VVaoaGZQQcysup51b96xFQ</td>\n",
       "      <td>-1</td>\n",
       "      <td>NaN</td>\n",
       "      <td>3</td>\n",
       "      <td>wXq3yGW3</td>\n",
       "      <td>0</td>\n",
       "    </tr>\n",
       "    <tr>\n",
       "      <th>5430</th>\n",
       "      <td>click_post</td>\n",
       "      <td>1.609550e+12</td>\n",
       "      <td>7cb93ab5-e0ec-4d5a-9245-b2e3ad87b9c3</td>\n",
       "      <td>kMPcgmnnRzGoVRomPVRz9A</td>\n",
       "      <td>-1</td>\n",
       "      <td>NaN</td>\n",
       "      <td>267</td>\n",
       "      <td>wXrn2a0w</td>\n",
       "      <td>0</td>\n",
       "    </tr>\n",
       "    <tr>\n",
       "      <th>5431</th>\n",
       "      <td>click_post</td>\n",
       "      <td>1.609540e+12</td>\n",
       "      <td>461e9683-e679-4448-bee3-d0b07353ab5d</td>\n",
       "      <td>bjiXJIm6RaWaw_7ASh5Gdw</td>\n",
       "      <td>-1</td>\n",
       "      <td>NaN</td>\n",
       "      <td>6</td>\n",
       "      <td>wXv7xXEj</td>\n",
       "      <td>0</td>\n",
       "    </tr>\n",
       "    <tr>\n",
       "      <th>5432</th>\n",
       "      <td>click_post</td>\n",
       "      <td>1.609540e+12</td>\n",
       "      <td>969745e6-25e5-46af-8c1b-f506429944f6</td>\n",
       "      <td>odyBXuz3Qn2-gmdEX-_ZOg</td>\n",
       "      <td>-1</td>\n",
       "      <td>NaN</td>\n",
       "      <td>17</td>\n",
       "      <td>wXnnSi0l</td>\n",
       "      <td>0</td>\n",
       "    </tr>\n",
       "    <tr>\n",
       "      <th>5433</th>\n",
       "      <td>click_post</td>\n",
       "      <td>1.609550e+12</td>\n",
       "      <td>5c422ed2-c7d5-4653-ac9c-1e2e890b97b5</td>\n",
       "      <td>_lgH2bn7Ty-6DuxrClGKUw</td>\n",
       "      <td>-1</td>\n",
       "      <td>NaN</td>\n",
       "      <td>174</td>\n",
       "      <td>wXqv95zt</td>\n",
       "      <td>0</td>\n",
       "    </tr>\n",
       "  </tbody>\n",
       "</table>\n",
       "</div>"
      ],
      "text/plain": [
       "          action    created_at                       source_event_id  \\\n",
       "5429  click_post  1.609550e+12  be60130c-a660-4e23-954d-9bcf08377b24   \n",
       "5430  click_post  1.609550e+12  7cb93ab5-e0ec-4d5a-9245-b2e3ad87b9c3   \n",
       "5431  click_post  1.609540e+12  461e9683-e679-4448-bee3-d0b07353ab5d   \n",
       "5432  click_post  1.609540e+12  969745e6-25e5-46af-8c1b-f506429944f6   \n",
       "5433  click_post  1.609550e+12  5c422ed2-c7d5-4653-ac9c-1e2e890b97b5   \n",
       "\n",
       "                   device_id  post_page_offset tokens  \\\n",
       "5429  VVaoaGZQQcysup51b96xFQ                -1    NaN   \n",
       "5430  kMPcgmnnRzGoVRomPVRz9A                -1    NaN   \n",
       "5431  bjiXJIm6RaWaw_7ASh5Gdw                -1    NaN   \n",
       "5432  odyBXuz3Qn2-gmdEX-_ZOg                -1    NaN   \n",
       "5433  _lgH2bn7Ty-6DuxrClGKUw                -1    NaN   \n",
       "\n",
       "      post_index_in_post_list post_token  len  \n",
       "5429                        3   wXq3yGW3    0  \n",
       "5430                      267   wXrn2a0w    0  \n",
       "5431                        6   wXv7xXEj    0  \n",
       "5432                       17   wXnnSi0l    0  \n",
       "5433                      174   wXqv95zt    0  "
      ]
     },
     "execution_count": 49,
     "metadata": {},
     "output_type": "execute_result"
    }
   ],
   "source": [
    "clicked.head()"
   ]
  },
  {
   "cell_type": "code",
   "execution_count": 50,
   "metadata": {},
   "outputs": [],
   "source": [
    "first_clicked = clicked.groupby(\"source_event_id\").post_index_in_post_list.agg([min])"
   ]
  },
  {
   "cell_type": "code",
   "execution_count": 51,
   "metadata": {},
   "outputs": [
    {
     "data": {
      "text/html": [
       "<div>\n",
       "<style scoped>\n",
       "    .dataframe tbody tr th:only-of-type {\n",
       "        vertical-align: middle;\n",
       "    }\n",
       "\n",
       "    .dataframe tbody tr th {\n",
       "        vertical-align: top;\n",
       "    }\n",
       "\n",
       "    .dataframe thead th {\n",
       "        text-align: right;\n",
       "    }\n",
       "</style>\n",
       "<table border=\"1\" class=\"dataframe\">\n",
       "  <thead>\n",
       "    <tr style=\"text-align: right;\">\n",
       "      <th></th>\n",
       "      <th>min</th>\n",
       "    </tr>\n",
       "    <tr>\n",
       "      <th>source_event_id</th>\n",
       "      <th></th>\n",
       "    </tr>\n",
       "  </thead>\n",
       "  <tbody>\n",
       "    <tr>\n",
       "      <th>00142c59-745c-4004-a955-698ddcf1faa6</th>\n",
       "      <td>7</td>\n",
       "    </tr>\n",
       "    <tr>\n",
       "      <th>0016f59f-9fb3-4ab5-ae78-9783314b81fc</th>\n",
       "      <td>2</td>\n",
       "    </tr>\n",
       "    <tr>\n",
       "      <th>0017b9ef-5903-40f9-a219-85728eb78436</th>\n",
       "      <td>5</td>\n",
       "    </tr>\n",
       "    <tr>\n",
       "      <th>0017c208-e016-4231-a022-598ba020f1ff</th>\n",
       "      <td>2</td>\n",
       "    </tr>\n",
       "    <tr>\n",
       "      <th>00240c5c-9d06-4fcd-93f5-93b842fdab63</th>\n",
       "      <td>1</td>\n",
       "    </tr>\n",
       "  </tbody>\n",
       "</table>\n",
       "</div>"
      ],
      "text/plain": [
       "                                      min\n",
       "source_event_id                          \n",
       "00142c59-745c-4004-a955-698ddcf1faa6    7\n",
       "0016f59f-9fb3-4ab5-ae78-9783314b81fc    2\n",
       "0017b9ef-5903-40f9-a219-85728eb78436    5\n",
       "0017c208-e016-4231-a022-598ba020f1ff    2\n",
       "00240c5c-9d06-4fcd-93f5-93b842fdab63    1"
      ]
     },
     "execution_count": 51,
     "metadata": {},
     "output_type": "execute_result"
    }
   ],
   "source": [
    "first_clicked.head()"
   ]
  },
  {
   "cell_type": "markdown",
   "metadata": {},
   "source": [
    "# Q3 == Part3"
   ]
  },
  {
   "cell_type": "code",
   "execution_count": 52,
   "metadata": {},
   "outputs": [],
   "source": [
    "diff_avg = clicked.groupby(\"source_event_id\").post_index_in_post_list.agg([max, len])"
   ]
  },
  {
   "cell_type": "code",
   "execution_count": 53,
   "metadata": {},
   "outputs": [],
   "source": [
    "diff_avg['avg'] = diff_avg['max'] / diff_avg['len']"
   ]
  },
  {
   "cell_type": "code",
   "execution_count": 54,
   "metadata": {},
   "outputs": [
    {
     "data": {
      "text/html": [
       "<div>\n",
       "<style scoped>\n",
       "    .dataframe tbody tr th:only-of-type {\n",
       "        vertical-align: middle;\n",
       "    }\n",
       "\n",
       "    .dataframe tbody tr th {\n",
       "        vertical-align: top;\n",
       "    }\n",
       "\n",
       "    .dataframe thead th {\n",
       "        text-align: right;\n",
       "    }\n",
       "</style>\n",
       "<table border=\"1\" class=\"dataframe\">\n",
       "  <thead>\n",
       "    <tr style=\"text-align: right;\">\n",
       "      <th></th>\n",
       "      <th>max</th>\n",
       "      <th>len</th>\n",
       "      <th>avg</th>\n",
       "    </tr>\n",
       "    <tr>\n",
       "      <th>source_event_id</th>\n",
       "      <th></th>\n",
       "      <th></th>\n",
       "      <th></th>\n",
       "    </tr>\n",
       "  </thead>\n",
       "  <tbody>\n",
       "    <tr>\n",
       "      <th>00142c59-745c-4004-a955-698ddcf1faa6</th>\n",
       "      <td>181</td>\n",
       "      <td>4</td>\n",
       "      <td>45.25</td>\n",
       "    </tr>\n",
       "    <tr>\n",
       "      <th>0016f59f-9fb3-4ab5-ae78-9783314b81fc</th>\n",
       "      <td>23</td>\n",
       "      <td>10</td>\n",
       "      <td>2.30</td>\n",
       "    </tr>\n",
       "    <tr>\n",
       "      <th>0017b9ef-5903-40f9-a219-85728eb78436</th>\n",
       "      <td>19</td>\n",
       "      <td>5</td>\n",
       "      <td>3.80</td>\n",
       "    </tr>\n",
       "    <tr>\n",
       "      <th>0017c208-e016-4231-a022-598ba020f1ff</th>\n",
       "      <td>43</td>\n",
       "      <td>4</td>\n",
       "      <td>10.75</td>\n",
       "    </tr>\n",
       "    <tr>\n",
       "      <th>00240c5c-9d06-4fcd-93f5-93b842fdab63</th>\n",
       "      <td>1</td>\n",
       "      <td>1</td>\n",
       "      <td>1.00</td>\n",
       "    </tr>\n",
       "  </tbody>\n",
       "</table>\n",
       "</div>"
      ],
      "text/plain": [
       "                                      max  len    avg\n",
       "source_event_id                                      \n",
       "00142c59-745c-4004-a955-698ddcf1faa6  181    4  45.25\n",
       "0016f59f-9fb3-4ab5-ae78-9783314b81fc   23   10   2.30\n",
       "0017b9ef-5903-40f9-a219-85728eb78436   19    5   3.80\n",
       "0017c208-e016-4231-a022-598ba020f1ff   43    4  10.75\n",
       "00240c5c-9d06-4fcd-93f5-93b842fdab63    1    1   1.00"
      ]
     },
     "execution_count": 54,
     "metadata": {},
     "output_type": "execute_result"
    }
   ],
   "source": [
    "diff_avg.head()"
   ]
  }
 ],
 "metadata": {
  "kernelspec": {
   "display_name": "Python 3",
   "language": "python",
   "name": "python3"
  },
  "language_info": {
   "codemirror_mode": {
    "name": "ipython",
    "version": 3
   },
   "file_extension": ".py",
   "mimetype": "text/x-python",
   "name": "python",
   "nbconvert_exporter": "python",
   "pygments_lexer": "ipython3",
   "version": "3.8.5"
  }
 },
 "nbformat": 4,
 "nbformat_minor": 4
}

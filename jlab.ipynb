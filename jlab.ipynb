{
 "cells": [
  {
   "cell_type": "code",
   "execution_count": 30,
   "metadata": {},
   "outputs": [],
   "source": [
    "import pandas as pd"
   ]
  },
  {
   "cell_type": "code",
   "execution_count": 31,
   "metadata": {},
   "outputs": [],
   "source": [
    "queries = pd.read_csv(\"Summer Camp Task Data.csv\")"
   ]
  },
  {
   "cell_type": "code",
   "execution_count": 50,
   "metadata": {},
   "outputs": [
    {
     "data": {
      "text/html": [
       "<div>\n",
       "<style scoped>\n",
       "    .dataframe tbody tr th:only-of-type {\n",
       "        vertical-align: middle;\n",
       "    }\n",
       "\n",
       "    .dataframe tbody tr th {\n",
       "        vertical-align: top;\n",
       "    }\n",
       "\n",
       "    .dataframe thead th {\n",
       "        text-align: right;\n",
       "    }\n",
       "</style>\n",
       "<table border=\"1\" class=\"dataframe\">\n",
       "  <thead>\n",
       "    <tr style=\"text-align: right;\">\n",
       "      <th></th>\n",
       "      <th>action</th>\n",
       "      <th>created_at</th>\n",
       "      <th>source_event_id</th>\n",
       "      <th>device_id</th>\n",
       "      <th>post_page_offset</th>\n",
       "      <th>tokens</th>\n",
       "      <th>post_index_in_post_list</th>\n",
       "      <th>post_token</th>\n",
       "      <th>len</th>\n",
       "    </tr>\n",
       "  </thead>\n",
       "  <tbody>\n",
       "    <tr>\n",
       "      <th>0</th>\n",
       "      <td>load_post_page</td>\n",
       "      <td>1.609550e+12</td>\n",
       "      <td>1575558c-a702-46ef-8e18-bc5cef761473</td>\n",
       "      <td>Ed9EADRZRXCHcrcEP_Hnkg</td>\n",
       "      <td>26</td>\n",
       "      <td>[wXvP3enu, wXvHXzUS, wXvPHXVe, wXvPHRs3, wXvH3...</td>\n",
       "      <td>-1</td>\n",
       "      <td>NaN</td>\n",
       "      <td>24</td>\n",
       "    </tr>\n",
       "    <tr>\n",
       "      <th>1</th>\n",
       "      <td>load_post_page</td>\n",
       "      <td>1.609550e+12</td>\n",
       "      <td>0fd004f4-ce9b-4766-ac96-7578dedebacb</td>\n",
       "      <td>5aVIp_PNSAWxqwBETYpmxQ</td>\n",
       "      <td>19</td>\n",
       "      <td>[wXujANbk, wXurAJsf, wXufwlh1, wXtr_4tD, wXujg...</td>\n",
       "      <td>-1</td>\n",
       "      <td>NaN</td>\n",
       "      <td>24</td>\n",
       "    </tr>\n",
       "    <tr>\n",
       "      <th>2</th>\n",
       "      <td>load_post_page</td>\n",
       "      <td>1.609550e+12</td>\n",
       "      <td>479905f2-3bb4-4c90-8e88-5ce4b60d0a73</td>\n",
       "      <td>mt0UAT4AQe2dECdXBvKYBA</td>\n",
       "      <td>0</td>\n",
       "      <td>[wXvHbNqU, wXvDrof9, wXv_aXHk, wXvDrSIa, wXv_a...</td>\n",
       "      <td>-1</td>\n",
       "      <td>NaN</td>\n",
       "      <td>24</td>\n",
       "    </tr>\n",
       "    <tr>\n",
       "      <th>3</th>\n",
       "      <td>load_post_page</td>\n",
       "      <td>1.609550e+12</td>\n",
       "      <td>b9b609bd-a486-42fb-b1a9-5ca03cf4a215</td>\n",
       "      <td>huSKUX-mSwyUcGzgSbXX6g</td>\n",
       "      <td>0</td>\n",
       "      <td>[wXvb7cpv, wXvH3hL0, wXvjmDaE, wXvT0sOS, wXv_j...</td>\n",
       "      <td>-1</td>\n",
       "      <td>NaN</td>\n",
       "      <td>24</td>\n",
       "    </tr>\n",
       "    <tr>\n",
       "      <th>4</th>\n",
       "      <td>load_post_page</td>\n",
       "      <td>1.609550e+12</td>\n",
       "      <td>6c390fce-34b6-4e19-837e-6bc295a72514</td>\n",
       "      <td>sL5fLDdoR9a7aDGPP8N-jA</td>\n",
       "      <td>1</td>\n",
       "      <td>[wXvjJTIc, wXvb5_SX, wXvb54Gs, wXvb5t6J, wXvbJ...</td>\n",
       "      <td>-1</td>\n",
       "      <td>NaN</td>\n",
       "      <td>24</td>\n",
       "    </tr>\n",
       "  </tbody>\n",
       "</table>\n",
       "</div>"
      ],
      "text/plain": [
       "           action    created_at                       source_event_id  \\\n",
       "0  load_post_page  1.609550e+12  1575558c-a702-46ef-8e18-bc5cef761473   \n",
       "1  load_post_page  1.609550e+12  0fd004f4-ce9b-4766-ac96-7578dedebacb   \n",
       "2  load_post_page  1.609550e+12  479905f2-3bb4-4c90-8e88-5ce4b60d0a73   \n",
       "3  load_post_page  1.609550e+12  b9b609bd-a486-42fb-b1a9-5ca03cf4a215   \n",
       "4  load_post_page  1.609550e+12  6c390fce-34b6-4e19-837e-6bc295a72514   \n",
       "\n",
       "                device_id  post_page_offset  \\\n",
       "0  Ed9EADRZRXCHcrcEP_Hnkg                26   \n",
       "1  5aVIp_PNSAWxqwBETYpmxQ                19   \n",
       "2  mt0UAT4AQe2dECdXBvKYBA                 0   \n",
       "3  huSKUX-mSwyUcGzgSbXX6g                 0   \n",
       "4  sL5fLDdoR9a7aDGPP8N-jA                 1   \n",
       "\n",
       "                                              tokens  post_index_in_post_list  \\\n",
       "0  [wXvP3enu, wXvHXzUS, wXvPHXVe, wXvPHRs3, wXvH3...                       -1   \n",
       "1  [wXujANbk, wXurAJsf, wXufwlh1, wXtr_4tD, wXujg...                       -1   \n",
       "2  [wXvHbNqU, wXvDrof9, wXv_aXHk, wXvDrSIa, wXv_a...                       -1   \n",
       "3  [wXvb7cpv, wXvH3hL0, wXvjmDaE, wXvT0sOS, wXv_j...                       -1   \n",
       "4  [wXvjJTIc, wXvb5_SX, wXvb54Gs, wXvb5t6J, wXvbJ...                       -1   \n",
       "\n",
       "  post_token  len  \n",
       "0        NaN   24  \n",
       "1        NaN   24  \n",
       "2        NaN   24  \n",
       "3        NaN   24  \n",
       "4        NaN   24  "
      ]
     },
     "execution_count": 50,
     "metadata": {},
     "output_type": "execute_result"
    }
   ],
   "source": [
    "queries.head()"
   ]
  },
  {
   "cell_type": "markdown",
   "metadata": {},
   "source": [
    "# tokens type and len column "
   ]
  },
  {
   "cell_type": "code",
   "execution_count": 33,
   "metadata": {},
   "outputs": [],
   "source": [
    "# i changed the type of tokens col.\n",
    "queries.loc[queries.action == \"load_post_page\",\"tokens\"] = queries.loc[queries.action == \"load_post_page\"].tokens.apply(lambda df: list(df[1:-1].split(\", \")))"
   ]
  },
  {
   "cell_type": "code",
   "execution_count": 34,
   "metadata": {},
   "outputs": [
    {
     "data": {
      "text/plain": [
       "list"
      ]
     },
     "execution_count": 34,
     "metadata": {},
     "output_type": "execute_result"
    }
   ],
   "source": [
    "type(queries.loc[1,\"tokens\"])"
   ]
  },
  {
   "cell_type": "code",
   "execution_count": 35,
   "metadata": {},
   "outputs": [],
   "source": [
    "# default value(for click_post action)\n",
    "queries[\"len\"] = 0"
   ]
  },
  {
   "cell_type": "code",
   "execution_count": 36,
   "metadata": {},
   "outputs": [],
   "source": [
    "# I filled the length column with the length of every tokens column entity.\n",
    "queries.loc[queries.action == \"load_post_page\",\"len\"] = queries.loc[queries.action == \"load_post_page\",\"tokens\"].apply(lambda x: len(x))"
   ]
  },
  {
   "cell_type": "code",
   "execution_count": 51,
   "metadata": {},
   "outputs": [
    {
     "data": {
      "text/html": [
       "<div>\n",
       "<style scoped>\n",
       "    .dataframe tbody tr th:only-of-type {\n",
       "        vertical-align: middle;\n",
       "    }\n",
       "\n",
       "    .dataframe tbody tr th {\n",
       "        vertical-align: top;\n",
       "    }\n",
       "\n",
       "    .dataframe thead th {\n",
       "        text-align: right;\n",
       "    }\n",
       "</style>\n",
       "<table border=\"1\" class=\"dataframe\">\n",
       "  <thead>\n",
       "    <tr style=\"text-align: right;\">\n",
       "      <th></th>\n",
       "      <th>action</th>\n",
       "      <th>created_at</th>\n",
       "      <th>source_event_id</th>\n",
       "      <th>device_id</th>\n",
       "      <th>post_page_offset</th>\n",
       "      <th>tokens</th>\n",
       "      <th>post_index_in_post_list</th>\n",
       "      <th>post_token</th>\n",
       "      <th>len</th>\n",
       "    </tr>\n",
       "  </thead>\n",
       "  <tbody>\n",
       "    <tr>\n",
       "      <th>0</th>\n",
       "      <td>load_post_page</td>\n",
       "      <td>1.609550e+12</td>\n",
       "      <td>1575558c-a702-46ef-8e18-bc5cef761473</td>\n",
       "      <td>Ed9EADRZRXCHcrcEP_Hnkg</td>\n",
       "      <td>26</td>\n",
       "      <td>[wXvP3enu, wXvHXzUS, wXvPHXVe, wXvPHRs3, wXvH3...</td>\n",
       "      <td>-1</td>\n",
       "      <td>NaN</td>\n",
       "      <td>24</td>\n",
       "    </tr>\n",
       "    <tr>\n",
       "      <th>1</th>\n",
       "      <td>load_post_page</td>\n",
       "      <td>1.609550e+12</td>\n",
       "      <td>0fd004f4-ce9b-4766-ac96-7578dedebacb</td>\n",
       "      <td>5aVIp_PNSAWxqwBETYpmxQ</td>\n",
       "      <td>19</td>\n",
       "      <td>[wXujANbk, wXurAJsf, wXufwlh1, wXtr_4tD, wXujg...</td>\n",
       "      <td>-1</td>\n",
       "      <td>NaN</td>\n",
       "      <td>24</td>\n",
       "    </tr>\n",
       "    <tr>\n",
       "      <th>2</th>\n",
       "      <td>load_post_page</td>\n",
       "      <td>1.609550e+12</td>\n",
       "      <td>479905f2-3bb4-4c90-8e88-5ce4b60d0a73</td>\n",
       "      <td>mt0UAT4AQe2dECdXBvKYBA</td>\n",
       "      <td>0</td>\n",
       "      <td>[wXvHbNqU, wXvDrof9, wXv_aXHk, wXvDrSIa, wXv_a...</td>\n",
       "      <td>-1</td>\n",
       "      <td>NaN</td>\n",
       "      <td>24</td>\n",
       "    </tr>\n",
       "    <tr>\n",
       "      <th>3</th>\n",
       "      <td>load_post_page</td>\n",
       "      <td>1.609550e+12</td>\n",
       "      <td>b9b609bd-a486-42fb-b1a9-5ca03cf4a215</td>\n",
       "      <td>huSKUX-mSwyUcGzgSbXX6g</td>\n",
       "      <td>0</td>\n",
       "      <td>[wXvb7cpv, wXvH3hL0, wXvjmDaE, wXvT0sOS, wXv_j...</td>\n",
       "      <td>-1</td>\n",
       "      <td>NaN</td>\n",
       "      <td>24</td>\n",
       "    </tr>\n",
       "    <tr>\n",
       "      <th>4</th>\n",
       "      <td>load_post_page</td>\n",
       "      <td>1.609550e+12</td>\n",
       "      <td>6c390fce-34b6-4e19-837e-6bc295a72514</td>\n",
       "      <td>sL5fLDdoR9a7aDGPP8N-jA</td>\n",
       "      <td>1</td>\n",
       "      <td>[wXvjJTIc, wXvb5_SX, wXvb54Gs, wXvb5t6J, wXvbJ...</td>\n",
       "      <td>-1</td>\n",
       "      <td>NaN</td>\n",
       "      <td>24</td>\n",
       "    </tr>\n",
       "  </tbody>\n",
       "</table>\n",
       "</div>"
      ],
      "text/plain": [
       "           action    created_at                       source_event_id  \\\n",
       "0  load_post_page  1.609550e+12  1575558c-a702-46ef-8e18-bc5cef761473   \n",
       "1  load_post_page  1.609550e+12  0fd004f4-ce9b-4766-ac96-7578dedebacb   \n",
       "2  load_post_page  1.609550e+12  479905f2-3bb4-4c90-8e88-5ce4b60d0a73   \n",
       "3  load_post_page  1.609550e+12  b9b609bd-a486-42fb-b1a9-5ca03cf4a215   \n",
       "4  load_post_page  1.609550e+12  6c390fce-34b6-4e19-837e-6bc295a72514   \n",
       "\n",
       "                device_id  post_page_offset  \\\n",
       "0  Ed9EADRZRXCHcrcEP_Hnkg                26   \n",
       "1  5aVIp_PNSAWxqwBETYpmxQ                19   \n",
       "2  mt0UAT4AQe2dECdXBvKYBA                 0   \n",
       "3  huSKUX-mSwyUcGzgSbXX6g                 0   \n",
       "4  sL5fLDdoR9a7aDGPP8N-jA                 1   \n",
       "\n",
       "                                              tokens  post_index_in_post_list  \\\n",
       "0  [wXvP3enu, wXvHXzUS, wXvPHXVe, wXvPHRs3, wXvH3...                       -1   \n",
       "1  [wXujANbk, wXurAJsf, wXufwlh1, wXtr_4tD, wXujg...                       -1   \n",
       "2  [wXvHbNqU, wXvDrof9, wXv_aXHk, wXvDrSIa, wXv_a...                       -1   \n",
       "3  [wXvb7cpv, wXvH3hL0, wXvjmDaE, wXvT0sOS, wXv_j...                       -1   \n",
       "4  [wXvjJTIc, wXvb5_SX, wXvb54Gs, wXvb5t6J, wXvbJ...                       -1   \n",
       "\n",
       "  post_token  len  \n",
       "0        NaN   24  \n",
       "1        NaN   24  \n",
       "2        NaN   24  \n",
       "3        NaN   24  \n",
       "4        NaN   24  "
      ]
     },
     "execution_count": 51,
     "metadata": {},
     "output_type": "execute_result"
    }
   ],
   "source": [
    "queries.head()"
   ]
  },
  {
   "cell_type": "code",
   "execution_count": 38,
   "metadata": {},
   "outputs": [
    {
     "data": {
      "text/plain": [
       "array([24, 10,  8,  7, 21, 11,  4,  3, 20, 23,  1,  5,  2, 19, 17, 12,  6,\n",
       "        9, 15, 13, 14, 16, 22, 18,  0], dtype=int64)"
      ]
     },
     "execution_count": 38,
     "metadata": {},
     "output_type": "execute_result"
    }
   ],
   "source": [
    "queries.len.unique()"
   ]
  },
  {
   "cell_type": "code",
   "execution_count": null,
   "metadata": {},
   "outputs": [],
   "source": []
  },
  {
   "cell_type": "code",
   "execution_count": 39,
   "metadata": {},
   "outputs": [],
   "source": [
    "queries.loc[queries.action == \"load_post_page\", \"post_page_offset\"] = queries.loc[queries.action == \"load_post_page\",\"post_page_offset\"].astype('int64')"
   ]
  },
  {
   "cell_type": "code",
   "execution_count": 52,
   "metadata": {},
   "outputs": [
    {
     "data": {
      "text/html": [
       "<div>\n",
       "<style scoped>\n",
       "    .dataframe tbody tr th:only-of-type {\n",
       "        vertical-align: middle;\n",
       "    }\n",
       "\n",
       "    .dataframe tbody tr th {\n",
       "        vertical-align: top;\n",
       "    }\n",
       "\n",
       "    .dataframe thead th {\n",
       "        text-align: right;\n",
       "    }\n",
       "</style>\n",
       "<table border=\"1\" class=\"dataframe\">\n",
       "  <thead>\n",
       "    <tr style=\"text-align: right;\">\n",
       "      <th></th>\n",
       "      <th>action</th>\n",
       "      <th>created_at</th>\n",
       "      <th>source_event_id</th>\n",
       "      <th>device_id</th>\n",
       "      <th>post_page_offset</th>\n",
       "      <th>tokens</th>\n",
       "      <th>post_index_in_post_list</th>\n",
       "      <th>post_token</th>\n",
       "      <th>len</th>\n",
       "    </tr>\n",
       "  </thead>\n",
       "  <tbody>\n",
       "    <tr>\n",
       "      <th>0</th>\n",
       "      <td>load_post_page</td>\n",
       "      <td>1.609550e+12</td>\n",
       "      <td>1575558c-a702-46ef-8e18-bc5cef761473</td>\n",
       "      <td>Ed9EADRZRXCHcrcEP_Hnkg</td>\n",
       "      <td>26</td>\n",
       "      <td>[wXvP3enu, wXvHXzUS, wXvPHXVe, wXvPHRs3, wXvH3...</td>\n",
       "      <td>-1</td>\n",
       "      <td>NaN</td>\n",
       "      <td>24</td>\n",
       "    </tr>\n",
       "    <tr>\n",
       "      <th>1</th>\n",
       "      <td>load_post_page</td>\n",
       "      <td>1.609550e+12</td>\n",
       "      <td>0fd004f4-ce9b-4766-ac96-7578dedebacb</td>\n",
       "      <td>5aVIp_PNSAWxqwBETYpmxQ</td>\n",
       "      <td>19</td>\n",
       "      <td>[wXujANbk, wXurAJsf, wXufwlh1, wXtr_4tD, wXujg...</td>\n",
       "      <td>-1</td>\n",
       "      <td>NaN</td>\n",
       "      <td>24</td>\n",
       "    </tr>\n",
       "    <tr>\n",
       "      <th>2</th>\n",
       "      <td>load_post_page</td>\n",
       "      <td>1.609550e+12</td>\n",
       "      <td>479905f2-3bb4-4c90-8e88-5ce4b60d0a73</td>\n",
       "      <td>mt0UAT4AQe2dECdXBvKYBA</td>\n",
       "      <td>0</td>\n",
       "      <td>[wXvHbNqU, wXvDrof9, wXv_aXHk, wXvDrSIa, wXv_a...</td>\n",
       "      <td>-1</td>\n",
       "      <td>NaN</td>\n",
       "      <td>24</td>\n",
       "    </tr>\n",
       "    <tr>\n",
       "      <th>3</th>\n",
       "      <td>load_post_page</td>\n",
       "      <td>1.609550e+12</td>\n",
       "      <td>b9b609bd-a486-42fb-b1a9-5ca03cf4a215</td>\n",
       "      <td>huSKUX-mSwyUcGzgSbXX6g</td>\n",
       "      <td>0</td>\n",
       "      <td>[wXvb7cpv, wXvH3hL0, wXvjmDaE, wXvT0sOS, wXv_j...</td>\n",
       "      <td>-1</td>\n",
       "      <td>NaN</td>\n",
       "      <td>24</td>\n",
       "    </tr>\n",
       "    <tr>\n",
       "      <th>4</th>\n",
       "      <td>load_post_page</td>\n",
       "      <td>1.609550e+12</td>\n",
       "      <td>6c390fce-34b6-4e19-837e-6bc295a72514</td>\n",
       "      <td>sL5fLDdoR9a7aDGPP8N-jA</td>\n",
       "      <td>1</td>\n",
       "      <td>[wXvjJTIc, wXvb5_SX, wXvb54Gs, wXvb5t6J, wXvbJ...</td>\n",
       "      <td>-1</td>\n",
       "      <td>NaN</td>\n",
       "      <td>24</td>\n",
       "    </tr>\n",
       "  </tbody>\n",
       "</table>\n",
       "</div>"
      ],
      "text/plain": [
       "           action    created_at                       source_event_id  \\\n",
       "0  load_post_page  1.609550e+12  1575558c-a702-46ef-8e18-bc5cef761473   \n",
       "1  load_post_page  1.609550e+12  0fd004f4-ce9b-4766-ac96-7578dedebacb   \n",
       "2  load_post_page  1.609550e+12  479905f2-3bb4-4c90-8e88-5ce4b60d0a73   \n",
       "3  load_post_page  1.609550e+12  b9b609bd-a486-42fb-b1a9-5ca03cf4a215   \n",
       "4  load_post_page  1.609550e+12  6c390fce-34b6-4e19-837e-6bc295a72514   \n",
       "\n",
       "                device_id  post_page_offset  \\\n",
       "0  Ed9EADRZRXCHcrcEP_Hnkg                26   \n",
       "1  5aVIp_PNSAWxqwBETYpmxQ                19   \n",
       "2  mt0UAT4AQe2dECdXBvKYBA                 0   \n",
       "3  huSKUX-mSwyUcGzgSbXX6g                 0   \n",
       "4  sL5fLDdoR9a7aDGPP8N-jA                 1   \n",
       "\n",
       "                                              tokens  post_index_in_post_list  \\\n",
       "0  [wXvP3enu, wXvHXzUS, wXvPHXVe, wXvPHRs3, wXvH3...                       -1   \n",
       "1  [wXujANbk, wXurAJsf, wXufwlh1, wXtr_4tD, wXujg...                       -1   \n",
       "2  [wXvHbNqU, wXvDrof9, wXv_aXHk, wXvDrSIa, wXv_a...                       -1   \n",
       "3  [wXvb7cpv, wXvH3hL0, wXvjmDaE, wXvT0sOS, wXv_j...                       -1   \n",
       "4  [wXvjJTIc, wXvb5_SX, wXvb54Gs, wXvb5t6J, wXvbJ...                       -1   \n",
       "\n",
       "  post_token  len  \n",
       "0        NaN   24  \n",
       "1        NaN   24  \n",
       "2        NaN   24  \n",
       "3        NaN   24  \n",
       "4        NaN   24  "
      ]
     },
     "execution_count": 52,
     "metadata": {},
     "output_type": "execute_result"
    }
   ],
   "source": [
    "queries.head()"
   ]
  },
  {
   "cell_type": "code",
   "execution_count": 41,
   "metadata": {},
   "outputs": [],
   "source": [
    "queries.post_page_offset = queries.post_page_offset.fillna(-1)\n",
    "queries.post_index_in_post_list = queries.post_index_in_post_list.fillna(-1)"
   ]
  },
  {
   "cell_type": "code",
   "execution_count": 42,
   "metadata": {},
   "outputs": [],
   "source": [
    "queries.post_page_offset = queries.post_page_offset.astype('int')\n",
    "queries.post_index_in_post_list = queries.post_index_in_post_list.astype('int')"
   ]
  },
  {
   "cell_type": "code",
   "execution_count": 53,
   "metadata": {},
   "outputs": [
    {
     "data": {
      "text/html": [
       "<div>\n",
       "<style scoped>\n",
       "    .dataframe tbody tr th:only-of-type {\n",
       "        vertical-align: middle;\n",
       "    }\n",
       "\n",
       "    .dataframe tbody tr th {\n",
       "        vertical-align: top;\n",
       "    }\n",
       "\n",
       "    .dataframe thead th {\n",
       "        text-align: right;\n",
       "    }\n",
       "</style>\n",
       "<table border=\"1\" class=\"dataframe\">\n",
       "  <thead>\n",
       "    <tr style=\"text-align: right;\">\n",
       "      <th></th>\n",
       "      <th>action</th>\n",
       "      <th>created_at</th>\n",
       "      <th>source_event_id</th>\n",
       "      <th>device_id</th>\n",
       "      <th>post_page_offset</th>\n",
       "      <th>tokens</th>\n",
       "      <th>post_index_in_post_list</th>\n",
       "      <th>post_token</th>\n",
       "      <th>len</th>\n",
       "    </tr>\n",
       "  </thead>\n",
       "  <tbody>\n",
       "    <tr>\n",
       "      <th>0</th>\n",
       "      <td>load_post_page</td>\n",
       "      <td>1.609550e+12</td>\n",
       "      <td>1575558c-a702-46ef-8e18-bc5cef761473</td>\n",
       "      <td>Ed9EADRZRXCHcrcEP_Hnkg</td>\n",
       "      <td>26</td>\n",
       "      <td>[wXvP3enu, wXvHXzUS, wXvPHXVe, wXvPHRs3, wXvH3...</td>\n",
       "      <td>-1</td>\n",
       "      <td>NaN</td>\n",
       "      <td>24</td>\n",
       "    </tr>\n",
       "    <tr>\n",
       "      <th>1</th>\n",
       "      <td>load_post_page</td>\n",
       "      <td>1.609550e+12</td>\n",
       "      <td>0fd004f4-ce9b-4766-ac96-7578dedebacb</td>\n",
       "      <td>5aVIp_PNSAWxqwBETYpmxQ</td>\n",
       "      <td>19</td>\n",
       "      <td>[wXujANbk, wXurAJsf, wXufwlh1, wXtr_4tD, wXujg...</td>\n",
       "      <td>-1</td>\n",
       "      <td>NaN</td>\n",
       "      <td>24</td>\n",
       "    </tr>\n",
       "    <tr>\n",
       "      <th>2</th>\n",
       "      <td>load_post_page</td>\n",
       "      <td>1.609550e+12</td>\n",
       "      <td>479905f2-3bb4-4c90-8e88-5ce4b60d0a73</td>\n",
       "      <td>mt0UAT4AQe2dECdXBvKYBA</td>\n",
       "      <td>0</td>\n",
       "      <td>[wXvHbNqU, wXvDrof9, wXv_aXHk, wXvDrSIa, wXv_a...</td>\n",
       "      <td>-1</td>\n",
       "      <td>NaN</td>\n",
       "      <td>24</td>\n",
       "    </tr>\n",
       "    <tr>\n",
       "      <th>3</th>\n",
       "      <td>load_post_page</td>\n",
       "      <td>1.609550e+12</td>\n",
       "      <td>b9b609bd-a486-42fb-b1a9-5ca03cf4a215</td>\n",
       "      <td>huSKUX-mSwyUcGzgSbXX6g</td>\n",
       "      <td>0</td>\n",
       "      <td>[wXvb7cpv, wXvH3hL0, wXvjmDaE, wXvT0sOS, wXv_j...</td>\n",
       "      <td>-1</td>\n",
       "      <td>NaN</td>\n",
       "      <td>24</td>\n",
       "    </tr>\n",
       "    <tr>\n",
       "      <th>4</th>\n",
       "      <td>load_post_page</td>\n",
       "      <td>1.609550e+12</td>\n",
       "      <td>6c390fce-34b6-4e19-837e-6bc295a72514</td>\n",
       "      <td>sL5fLDdoR9a7aDGPP8N-jA</td>\n",
       "      <td>1</td>\n",
       "      <td>[wXvjJTIc, wXvb5_SX, wXvb54Gs, wXvb5t6J, wXvbJ...</td>\n",
       "      <td>-1</td>\n",
       "      <td>NaN</td>\n",
       "      <td>24</td>\n",
       "    </tr>\n",
       "  </tbody>\n",
       "</table>\n",
       "</div>"
      ],
      "text/plain": [
       "           action    created_at                       source_event_id  \\\n",
       "0  load_post_page  1.609550e+12  1575558c-a702-46ef-8e18-bc5cef761473   \n",
       "1  load_post_page  1.609550e+12  0fd004f4-ce9b-4766-ac96-7578dedebacb   \n",
       "2  load_post_page  1.609550e+12  479905f2-3bb4-4c90-8e88-5ce4b60d0a73   \n",
       "3  load_post_page  1.609550e+12  b9b609bd-a486-42fb-b1a9-5ca03cf4a215   \n",
       "4  load_post_page  1.609550e+12  6c390fce-34b6-4e19-837e-6bc295a72514   \n",
       "\n",
       "                device_id  post_page_offset  \\\n",
       "0  Ed9EADRZRXCHcrcEP_Hnkg                26   \n",
       "1  5aVIp_PNSAWxqwBETYpmxQ                19   \n",
       "2  mt0UAT4AQe2dECdXBvKYBA                 0   \n",
       "3  huSKUX-mSwyUcGzgSbXX6g                 0   \n",
       "4  sL5fLDdoR9a7aDGPP8N-jA                 1   \n",
       "\n",
       "                                              tokens  post_index_in_post_list  \\\n",
       "0  [wXvP3enu, wXvHXzUS, wXvPHXVe, wXvPHRs3, wXvH3...                       -1   \n",
       "1  [wXujANbk, wXurAJsf, wXufwlh1, wXtr_4tD, wXujg...                       -1   \n",
       "2  [wXvHbNqU, wXvDrof9, wXv_aXHk, wXvDrSIa, wXv_a...                       -1   \n",
       "3  [wXvb7cpv, wXvH3hL0, wXvjmDaE, wXvT0sOS, wXv_j...                       -1   \n",
       "4  [wXvjJTIc, wXvb5_SX, wXvb54Gs, wXvb5t6J, wXvbJ...                       -1   \n",
       "\n",
       "  post_token  len  \n",
       "0        NaN   24  \n",
       "1        NaN   24  \n",
       "2        NaN   24  \n",
       "3        NaN   24  \n",
       "4        NaN   24  "
      ]
     },
     "execution_count": 53,
     "metadata": {},
     "output_type": "execute_result"
    }
   ],
   "source": [
    "queries.head()"
   ]
  },
  {
   "cell_type": "markdown",
   "metadata": {},
   "source": [
    "# Overview of data"
   ]
  },
  {
   "cell_type": "code",
   "execution_count": 54,
   "metadata": {},
   "outputs": [
    {
     "data": {
      "text/html": [
       "<div>\n",
       "<style scoped>\n",
       "    .dataframe tbody tr th:only-of-type {\n",
       "        vertical-align: middle;\n",
       "    }\n",
       "\n",
       "    .dataframe tbody tr th {\n",
       "        vertical-align: top;\n",
       "    }\n",
       "\n",
       "    .dataframe thead th {\n",
       "        text-align: right;\n",
       "    }\n",
       "</style>\n",
       "<table border=\"1\" class=\"dataframe\">\n",
       "  <thead>\n",
       "    <tr style=\"text-align: right;\">\n",
       "      <th></th>\n",
       "      <th>action</th>\n",
       "      <th>created_at</th>\n",
       "      <th>source_event_id</th>\n",
       "      <th>device_id</th>\n",
       "      <th>post_page_offset</th>\n",
       "      <th>tokens</th>\n",
       "      <th>post_index_in_post_list</th>\n",
       "      <th>post_token</th>\n",
       "      <th>len</th>\n",
       "    </tr>\n",
       "  </thead>\n",
       "  <tbody>\n",
       "    <tr>\n",
       "      <th>5429</th>\n",
       "      <td>click_post</td>\n",
       "      <td>1.609550e+12</td>\n",
       "      <td>be60130c-a660-4e23-954d-9bcf08377b24</td>\n",
       "      <td>VVaoaGZQQcysup51b96xFQ</td>\n",
       "      <td>-1</td>\n",
       "      <td>NaN</td>\n",
       "      <td>3</td>\n",
       "      <td>wXq3yGW3</td>\n",
       "      <td>0</td>\n",
       "    </tr>\n",
       "    <tr>\n",
       "      <th>5430</th>\n",
       "      <td>click_post</td>\n",
       "      <td>1.609550e+12</td>\n",
       "      <td>7cb93ab5-e0ec-4d5a-9245-b2e3ad87b9c3</td>\n",
       "      <td>kMPcgmnnRzGoVRomPVRz9A</td>\n",
       "      <td>-1</td>\n",
       "      <td>NaN</td>\n",
       "      <td>267</td>\n",
       "      <td>wXrn2a0w</td>\n",
       "      <td>0</td>\n",
       "    </tr>\n",
       "    <tr>\n",
       "      <th>5431</th>\n",
       "      <td>click_post</td>\n",
       "      <td>1.609540e+12</td>\n",
       "      <td>461e9683-e679-4448-bee3-d0b07353ab5d</td>\n",
       "      <td>bjiXJIm6RaWaw_7ASh5Gdw</td>\n",
       "      <td>-1</td>\n",
       "      <td>NaN</td>\n",
       "      <td>6</td>\n",
       "      <td>wXv7xXEj</td>\n",
       "      <td>0</td>\n",
       "    </tr>\n",
       "    <tr>\n",
       "      <th>5432</th>\n",
       "      <td>click_post</td>\n",
       "      <td>1.609540e+12</td>\n",
       "      <td>969745e6-25e5-46af-8c1b-f506429944f6</td>\n",
       "      <td>odyBXuz3Qn2-gmdEX-_ZOg</td>\n",
       "      <td>-1</td>\n",
       "      <td>NaN</td>\n",
       "      <td>17</td>\n",
       "      <td>wXnnSi0l</td>\n",
       "      <td>0</td>\n",
       "    </tr>\n",
       "    <tr>\n",
       "      <th>5433</th>\n",
       "      <td>click_post</td>\n",
       "      <td>1.609550e+12</td>\n",
       "      <td>5c422ed2-c7d5-4653-ac9c-1e2e890b97b5</td>\n",
       "      <td>_lgH2bn7Ty-6DuxrClGKUw</td>\n",
       "      <td>-1</td>\n",
       "      <td>NaN</td>\n",
       "      <td>174</td>\n",
       "      <td>wXqv95zt</td>\n",
       "      <td>0</td>\n",
       "    </tr>\n",
       "  </tbody>\n",
       "</table>\n",
       "</div>"
      ],
      "text/plain": [
       "          action    created_at                       source_event_id  \\\n",
       "5429  click_post  1.609550e+12  be60130c-a660-4e23-954d-9bcf08377b24   \n",
       "5430  click_post  1.609550e+12  7cb93ab5-e0ec-4d5a-9245-b2e3ad87b9c3   \n",
       "5431  click_post  1.609540e+12  461e9683-e679-4448-bee3-d0b07353ab5d   \n",
       "5432  click_post  1.609540e+12  969745e6-25e5-46af-8c1b-f506429944f6   \n",
       "5433  click_post  1.609550e+12  5c422ed2-c7d5-4653-ac9c-1e2e890b97b5   \n",
       "\n",
       "                   device_id  post_page_offset tokens  \\\n",
       "5429  VVaoaGZQQcysup51b96xFQ                -1    NaN   \n",
       "5430  kMPcgmnnRzGoVRomPVRz9A                -1    NaN   \n",
       "5431  bjiXJIm6RaWaw_7ASh5Gdw                -1    NaN   \n",
       "5432  odyBXuz3Qn2-gmdEX-_ZOg                -1    NaN   \n",
       "5433  _lgH2bn7Ty-6DuxrClGKUw                -1    NaN   \n",
       "\n",
       "      post_index_in_post_list post_token  len  \n",
       "5429                        3   wXq3yGW3    0  \n",
       "5430                      267   wXrn2a0w    0  \n",
       "5431                        6   wXv7xXEj    0  \n",
       "5432                       17   wXnnSi0l    0  \n",
       "5433                      174   wXqv95zt    0  "
      ]
     },
     "execution_count": 54,
     "metadata": {},
     "output_type": "execute_result"
    }
   ],
   "source": [
    "queries.loc[queries.action == \"click_post\"].head()"
   ]
  },
  {
   "cell_type": "code",
   "execution_count": 77,
   "metadata": {},
   "outputs": [
    {
     "data": {
      "text/plain": [
       "5013"
      ]
     },
     "execution_count": 77,
     "metadata": {},
     "output_type": "execute_result"
    }
   ],
   "source": [
    "len(queries.device_id.unique())"
   ]
  },
  {
   "cell_type": "code",
   "execution_count": 11,
   "metadata": {},
   "outputs": [
    {
     "data": {
      "text/plain": [
       "14296"
      ]
     },
     "execution_count": 11,
     "metadata": {},
     "output_type": "execute_result"
    }
   ],
   "source": [
    "len(queries.source_event_id.unique())"
   ]
  },
  {
   "cell_type": "markdown",
   "metadata": {},
   "source": [
    "# Q2"
   ]
  },
  {
   "cell_type": "markdown",
   "metadata": {},
   "source": [
    "# Q2 == Part 1 "
   ]
  },
  {
   "cell_type": "code",
   "execution_count": 12,
   "metadata": {},
   "outputs": [],
   "source": [
    "dark_queries = queries.loc[queries.action == \"load_post_page\"].groupby(\"source_event_id\").len.sum()"
   ]
  },
  {
   "cell_type": "code",
   "execution_count": 13,
   "metadata": {},
   "outputs": [
    {
     "data": {
      "text/plain": [
       "source_event_id\n",
       "00049ef3-c027-4f55-869c-46711f0ea0ad     24\n",
       "00069dda-4175-4bb0-8ef0-c0e1031d4da6     24\n",
       "0017c208-e016-4231-a022-598ba020f1ff    168\n",
       "002222cf-9e4b-4432-9e36-ad500a753850     24\n",
       "004dc60d-2288-453f-bcda-1ad5e8d8211f     25\n",
       "                                       ... \n",
       "ffda8068-9c22-46f0-971e-6b2b19c764ea    216\n",
       "ffeaa17f-ee79-4f42-be58-afd60a5aef37     48\n",
       "ffec4e11-c0a1-4fa4-8613-0979d6f46918    528\n",
       "ffef6048-9db0-4244-9750-3b530552f0ec    840\n",
       "fffc83a5-3f35-4cfe-bb4d-e1b9bf709860     24\n",
       "Name: len, Length: 9381, dtype: int64"
      ]
     },
     "execution_count": 13,
     "metadata": {},
     "output_type": "execute_result"
    }
   ],
   "source": [
    "dark_queries"
   ]
  },
  {
   "cell_type": "code",
   "execution_count": 14,
   "metadata": {},
   "outputs": [
    {
     "data": {
      "text/plain": [
       "source_event_id\n",
       "005d3801-cbd8-4432-be02-3b85c10f6938    2\n",
       "009e2d57-d038-4268-9ec4-d021e6894667    7\n",
       "00da5fcb-4246-4b82-a9b2-081810d52c07    3\n",
       "00f30b06-7303-44a8-9623-ad4144d8200b    3\n",
       "00fad06c-a499-41f9-8cea-84441e09b7fb    7\n",
       "                                       ..\n",
       "fe698e47-7e9e-43c6-bda4-43446ad25105    8\n",
       "feda3b8c-1c37-413c-9434-74a9c05e2f87    1\n",
       "ff8f1058-b437-494c-8dde-792325cd30fd    1\n",
       "ffbc107f-45f5-4dcf-b496-ce421de644a4    3\n",
       "ffd0cb32-0cd6-44d3-ad02-b87b764a47dd    2\n",
       "Name: len, Length: 1138, dtype: int64"
      ]
     },
     "execution_count": 14,
     "metadata": {},
     "output_type": "execute_result"
    }
   ],
   "source": [
    "dark_queries.loc[dark_queries < 10]"
   ]
  },
  {
   "cell_type": "code",
   "execution_count": 15,
   "metadata": {},
   "outputs": [],
   "source": [
    "dark_query_percent = len(dark_queries.loc[dark_queries < 10]) / len(queries.source_event_id.unique())"
   ]
  },
  {
   "cell_type": "code",
   "execution_count": 16,
   "metadata": {},
   "outputs": [
    {
     "data": {
      "text/plain": [
       "0.07960268606603246"
      ]
     },
     "execution_count": 16,
     "metadata": {},
     "output_type": "execute_result"
    }
   ],
   "source": [
    "dark_query_percent"
   ]
  },
  {
   "cell_type": "markdown",
   "metadata": {},
   "source": [
    "# Q2 == Part 2"
   ]
  },
  {
   "cell_type": "code",
   "execution_count": 31,
   "metadata": {},
   "outputs": [],
   "source": [
    "clicked_percent = len(queries.loc[queries.action == \"click_post\"].source_event_id.unique()) / len(queries.source_event_id.unique())"
   ]
  },
  {
   "cell_type": "code",
   "execution_count": 32,
   "metadata": {},
   "outputs": [],
   "source": [
    "query_bounce_rate = 1 - clicked_percent"
   ]
  },
  {
   "cell_type": "code",
   "execution_count": 33,
   "metadata": {},
   "outputs": [
    {
     "data": {
      "text/plain": [
       "0.24314493564633466"
      ]
     },
     "execution_count": 33,
     "metadata": {},
     "output_type": "execute_result"
    }
   ],
   "source": [
    "query_bounce_rate"
   ]
  },
  {
   "cell_type": "markdown",
   "metadata": {},
   "source": [
    "# Q3"
   ]
  },
  {
   "cell_type": "markdown",
   "metadata": {},
   "source": [
    "# Q3 == Part 1"
   ]
  },
  {
   "cell_type": "code",
   "execution_count": 22,
   "metadata": {},
   "outputs": [],
   "source": [
    "clicked = queries.loc[queries.action == \"click_post\"].groupby([\"source_event_id\"]).source_event_id.count()"
   ]
  },
  {
   "cell_type": "code",
   "execution_count": 18,
   "metadata": {},
   "outputs": [],
   "source": [
    "loaded = queries.loc[queries.action == \"load_post_page\"].groupby(\"source_event_id\").len.sum()"
   ]
  },
  {
   "cell_type": "code",
   "execution_count": 20,
   "metadata": {},
   "outputs": [
    {
     "data": {
      "text/plain": [
       "source_event_id\n",
       "00049ef3-c027-4f55-869c-46711f0ea0ad     24\n",
       "00069dda-4175-4bb0-8ef0-c0e1031d4da6     24\n",
       "0017c208-e016-4231-a022-598ba020f1ff    168\n",
       "002222cf-9e4b-4432-9e36-ad500a753850     24\n",
       "004dc60d-2288-453f-bcda-1ad5e8d8211f     25\n",
       "                                       ... \n",
       "ffda8068-9c22-46f0-971e-6b2b19c764ea    216\n",
       "ffeaa17f-ee79-4f42-be58-afd60a5aef37     48\n",
       "ffec4e11-c0a1-4fa4-8613-0979d6f46918    528\n",
       "ffef6048-9db0-4244-9750-3b530552f0ec    840\n",
       "fffc83a5-3f35-4cfe-bb4d-e1b9bf709860     24\n",
       "Name: len, Length: 9381, dtype: int64"
      ]
     },
     "execution_count": 20,
     "metadata": {},
     "output_type": "execute_result"
    }
   ],
   "source": [
    "loaded"
   ]
  },
  {
   "cell_type": "code",
   "execution_count": 23,
   "metadata": {},
   "outputs": [
    {
     "data": {
      "text/plain": [
       "source_event_id\n",
       "00142c59-745c-4004-a955-698ddcf1faa6     4\n",
       "0016f59f-9fb3-4ab5-ae78-9783314b81fc    10\n",
       "0017b9ef-5903-40f9-a219-85728eb78436     5\n",
       "0017c208-e016-4231-a022-598ba020f1ff     4\n",
       "00240c5c-9d06-4fcd-93f5-93b842fdab63     1\n",
       "                                        ..\n",
       "ffdd48fc-4c05-4c75-bf8c-5cd42729d2b8     5\n",
       "ffe3a1f8-c363-4fbb-af5f-0d244b21aea4     7\n",
       "ffec4e11-c0a1-4fa4-8613-0979d6f46918     5\n",
       "ffef31ea-cb4e-4d00-98ca-118df330cdca     2\n",
       "ffef6048-9db0-4244-9750-3b530552f0ec    43\n",
       "Name: source_event_id, Length: 10820, dtype: int64"
      ]
     },
     "execution_count": 23,
     "metadata": {},
     "output_type": "execute_result"
    }
   ],
   "source": [
    "clicked"
   ]
  },
  {
   "cell_type": "code",
   "execution_count": 24,
   "metadata": {},
   "outputs": [],
   "source": [
    "clicked_per_loaded = clicked / loaded"
   ]
  },
  {
   "cell_type": "code",
   "execution_count": 25,
   "metadata": {},
   "outputs": [
    {
     "data": {
      "text/plain": [
       "source_event_id\n",
       "00049ef3-c027-4f55-869c-46711f0ea0ad    0.00000\n",
       "00069dda-4175-4bb0-8ef0-c0e1031d4da6    0.00000\n",
       "00142c59-745c-4004-a955-698ddcf1faa6    0.00000\n",
       "0016f59f-9fb3-4ab5-ae78-9783314b81fc    0.00000\n",
       "0017b9ef-5903-40f9-a219-85728eb78436    0.00000\n",
       "                                         ...   \n",
       "ffeaa17f-ee79-4f42-be58-afd60a5aef37    0.00000\n",
       "ffec4e11-c0a1-4fa4-8613-0979d6f46918    0.00947\n",
       "ffef31ea-cb4e-4d00-98ca-118df330cdca    0.00000\n",
       "ffef6048-9db0-4244-9750-3b530552f0ec    0.05119\n",
       "fffc83a5-3f35-4cfe-bb4d-e1b9bf709860    0.00000\n",
       "Length: 14296, dtype: float64"
      ]
     },
     "execution_count": 25,
     "metadata": {},
     "output_type": "execute_result"
    }
   ],
   "source": [
    "clicked_per_loaded.fillna(0)"
   ]
  },
  {
   "cell_type": "markdown",
   "metadata": {},
   "source": [
    "# Q3 == Part 2"
   ]
  },
  {
   "cell_type": "code",
   "execution_count": 68,
   "metadata": {},
   "outputs": [],
   "source": [
    "clicked = queries.loc[queries.action == \"click_post\"]"
   ]
  },
  {
   "cell_type": "code",
   "execution_count": 69,
   "metadata": {},
   "outputs": [
    {
     "data": {
      "text/html": [
       "<div>\n",
       "<style scoped>\n",
       "    .dataframe tbody tr th:only-of-type {\n",
       "        vertical-align: middle;\n",
       "    }\n",
       "\n",
       "    .dataframe tbody tr th {\n",
       "        vertical-align: top;\n",
       "    }\n",
       "\n",
       "    .dataframe thead th {\n",
       "        text-align: right;\n",
       "    }\n",
       "</style>\n",
       "<table border=\"1\" class=\"dataframe\">\n",
       "  <thead>\n",
       "    <tr style=\"text-align: right;\">\n",
       "      <th></th>\n",
       "      <th>action</th>\n",
       "      <th>created_at</th>\n",
       "      <th>source_event_id</th>\n",
       "      <th>device_id</th>\n",
       "      <th>post_page_offset</th>\n",
       "      <th>tokens</th>\n",
       "      <th>post_index_in_post_list</th>\n",
       "      <th>post_token</th>\n",
       "      <th>len</th>\n",
       "    </tr>\n",
       "  </thead>\n",
       "  <tbody>\n",
       "    <tr>\n",
       "      <th>5429</th>\n",
       "      <td>click_post</td>\n",
       "      <td>1.609550e+12</td>\n",
       "      <td>be60130c-a660-4e23-954d-9bcf08377b24</td>\n",
       "      <td>VVaoaGZQQcysup51b96xFQ</td>\n",
       "      <td>-1</td>\n",
       "      <td>NaN</td>\n",
       "      <td>3</td>\n",
       "      <td>wXq3yGW3</td>\n",
       "      <td>0</td>\n",
       "    </tr>\n",
       "    <tr>\n",
       "      <th>5430</th>\n",
       "      <td>click_post</td>\n",
       "      <td>1.609550e+12</td>\n",
       "      <td>7cb93ab5-e0ec-4d5a-9245-b2e3ad87b9c3</td>\n",
       "      <td>kMPcgmnnRzGoVRomPVRz9A</td>\n",
       "      <td>-1</td>\n",
       "      <td>NaN</td>\n",
       "      <td>267</td>\n",
       "      <td>wXrn2a0w</td>\n",
       "      <td>0</td>\n",
       "    </tr>\n",
       "    <tr>\n",
       "      <th>5431</th>\n",
       "      <td>click_post</td>\n",
       "      <td>1.609540e+12</td>\n",
       "      <td>461e9683-e679-4448-bee3-d0b07353ab5d</td>\n",
       "      <td>bjiXJIm6RaWaw_7ASh5Gdw</td>\n",
       "      <td>-1</td>\n",
       "      <td>NaN</td>\n",
       "      <td>6</td>\n",
       "      <td>wXv7xXEj</td>\n",
       "      <td>0</td>\n",
       "    </tr>\n",
       "    <tr>\n",
       "      <th>5432</th>\n",
       "      <td>click_post</td>\n",
       "      <td>1.609540e+12</td>\n",
       "      <td>969745e6-25e5-46af-8c1b-f506429944f6</td>\n",
       "      <td>odyBXuz3Qn2-gmdEX-_ZOg</td>\n",
       "      <td>-1</td>\n",
       "      <td>NaN</td>\n",
       "      <td>17</td>\n",
       "      <td>wXnnSi0l</td>\n",
       "      <td>0</td>\n",
       "    </tr>\n",
       "    <tr>\n",
       "      <th>5433</th>\n",
       "      <td>click_post</td>\n",
       "      <td>1.609550e+12</td>\n",
       "      <td>5c422ed2-c7d5-4653-ac9c-1e2e890b97b5</td>\n",
       "      <td>_lgH2bn7Ty-6DuxrClGKUw</td>\n",
       "      <td>-1</td>\n",
       "      <td>NaN</td>\n",
       "      <td>174</td>\n",
       "      <td>wXqv95zt</td>\n",
       "      <td>0</td>\n",
       "    </tr>\n",
       "  </tbody>\n",
       "</table>\n",
       "</div>"
      ],
      "text/plain": [
       "          action    created_at                       source_event_id  \\\n",
       "5429  click_post  1.609550e+12  be60130c-a660-4e23-954d-9bcf08377b24   \n",
       "5430  click_post  1.609550e+12  7cb93ab5-e0ec-4d5a-9245-b2e3ad87b9c3   \n",
       "5431  click_post  1.609540e+12  461e9683-e679-4448-bee3-d0b07353ab5d   \n",
       "5432  click_post  1.609540e+12  969745e6-25e5-46af-8c1b-f506429944f6   \n",
       "5433  click_post  1.609550e+12  5c422ed2-c7d5-4653-ac9c-1e2e890b97b5   \n",
       "\n",
       "                   device_id  post_page_offset tokens  \\\n",
       "5429  VVaoaGZQQcysup51b96xFQ                -1    NaN   \n",
       "5430  kMPcgmnnRzGoVRomPVRz9A                -1    NaN   \n",
       "5431  bjiXJIm6RaWaw_7ASh5Gdw                -1    NaN   \n",
       "5432  odyBXuz3Qn2-gmdEX-_ZOg                -1    NaN   \n",
       "5433  _lgH2bn7Ty-6DuxrClGKUw                -1    NaN   \n",
       "\n",
       "      post_index_in_post_list post_token  len  \n",
       "5429                        3   wXq3yGW3    0  \n",
       "5430                      267   wXrn2a0w    0  \n",
       "5431                        6   wXv7xXEj    0  \n",
       "5432                       17   wXnnSi0l    0  \n",
       "5433                      174   wXqv95zt    0  "
      ]
     },
     "execution_count": 69,
     "metadata": {},
     "output_type": "execute_result"
    }
   ],
   "source": [
    "clicked.head()"
   ]
  },
  {
   "cell_type": "code",
   "execution_count": 70,
   "metadata": {},
   "outputs": [],
   "source": [
    "first_clicked = clicked.groupby(\"source_event_id\").post_index_in_post_list.agg([min])"
   ]
  },
  {
   "cell_type": "code",
   "execution_count": 71,
   "metadata": {},
   "outputs": [
    {
     "data": {
      "text/html": [
       "<div>\n",
       "<style scoped>\n",
       "    .dataframe tbody tr th:only-of-type {\n",
       "        vertical-align: middle;\n",
       "    }\n",
       "\n",
       "    .dataframe tbody tr th {\n",
       "        vertical-align: top;\n",
       "    }\n",
       "\n",
       "    .dataframe thead th {\n",
       "        text-align: right;\n",
       "    }\n",
       "</style>\n",
       "<table border=\"1\" class=\"dataframe\">\n",
       "  <thead>\n",
       "    <tr style=\"text-align: right;\">\n",
       "      <th></th>\n",
       "      <th>min</th>\n",
       "    </tr>\n",
       "    <tr>\n",
       "      <th>source_event_id</th>\n",
       "      <th></th>\n",
       "    </tr>\n",
       "  </thead>\n",
       "  <tbody>\n",
       "    <tr>\n",
       "      <th>00142c59-745c-4004-a955-698ddcf1faa6</th>\n",
       "      <td>7</td>\n",
       "    </tr>\n",
       "    <tr>\n",
       "      <th>0016f59f-9fb3-4ab5-ae78-9783314b81fc</th>\n",
       "      <td>2</td>\n",
       "    </tr>\n",
       "    <tr>\n",
       "      <th>0017b9ef-5903-40f9-a219-85728eb78436</th>\n",
       "      <td>5</td>\n",
       "    </tr>\n",
       "    <tr>\n",
       "      <th>0017c208-e016-4231-a022-598ba020f1ff</th>\n",
       "      <td>2</td>\n",
       "    </tr>\n",
       "    <tr>\n",
       "      <th>00240c5c-9d06-4fcd-93f5-93b842fdab63</th>\n",
       "      <td>1</td>\n",
       "    </tr>\n",
       "  </tbody>\n",
       "</table>\n",
       "</div>"
      ],
      "text/plain": [
       "                                      min\n",
       "source_event_id                          \n",
       "00142c59-745c-4004-a955-698ddcf1faa6    7\n",
       "0016f59f-9fb3-4ab5-ae78-9783314b81fc    2\n",
       "0017b9ef-5903-40f9-a219-85728eb78436    5\n",
       "0017c208-e016-4231-a022-598ba020f1ff    2\n",
       "00240c5c-9d06-4fcd-93f5-93b842fdab63    1"
      ]
     },
     "execution_count": 71,
     "metadata": {},
     "output_type": "execute_result"
    }
   ],
   "source": [
    "first_clicked.head()"
   ]
  },
  {
   "cell_type": "markdown",
   "metadata": {},
   "source": [
    "# Q4"
   ]
  },
  {
   "cell_type": "code",
   "execution_count": null,
   "metadata": {},
   "outputs": [],
   "source": []
  }
 ],
 "metadata": {
  "kernelspec": {
   "display_name": "Python 3",
   "language": "python",
   "name": "python3"
  },
  "language_info": {
   "codemirror_mode": {
    "name": "ipython",
    "version": 3
   },
   "file_extension": ".py",
   "mimetype": "text/x-python",
   "name": "python",
   "nbconvert_exporter": "python",
   "pygments_lexer": "ipython3",
   "version": "3.8.5"
  }
 },
 "nbformat": 4,
 "nbformat_minor": 4
}
